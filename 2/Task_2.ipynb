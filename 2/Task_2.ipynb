{
 "cells": [
  {
   "cell_type": "code",
   "execution_count": null,
   "id": "67bd487e",
   "metadata": {
    "ExecuteTime": {
     "end_time": "2023-11-25T13:12:52.502669862Z",
     "start_time": "2023-11-25T13:12:50.428299308Z"
    }
   },
   "outputs": [],
   "source": [
    "!pip install pandas\n",
    "import numpy as np\n",
    "import pandas as pd\n",
    "import t2_utils as t2\n",
    "import time \n",
    "from ast import literal_eval\n",
    "import os"
   ]
  },
  {
   "cell_type": "code",
   "execution_count": null,
   "id": "55fe8f6b",
   "metadata": {
    "ExecuteTime": {
     "end_time": "2023-11-25T13:13:05.626050609Z",
     "start_time": "2023-11-25T13:12:52.935788201Z"
    }
   },
   "outputs": [],
   "source": [
    "# change the file path here\n",
    "file_path_base = r\"\"\n",
    "file_path_info = file_path_base + \"id_information_mmsr.tsv\" \n",
    "file_path_word2vec = file_path_base + \"id_lyrics_word2vec_mmsr.tsv\"\n",
    "file_path_tfidf = file_path_base + \"id_lyrics_tf-idf_mmsr.tsv\"\n",
    "file_path_bert = file_path_base + \"id_lyrics_bert_mmsr.tsv\"\n",
    "\n",
    "file_path_genre = file_path_base + \"id_genres_mmsr.tsv\"\n",
    "file_path_musicnn = file_path_base + \"id_musicnn_mmsr.tsv\"\n",
    "file_path_mfcc_bow = file_path_base + \"id_mfcc_bow_mmsr.tsv\"\n",
    "file_path_ivec_256 = file_path_base + \"id_ivec256_mmsr.tsv\"\n",
    "file_path_logfluc = file_path_base + \"id_blf_logfluc_mmsr.tsv\"\n",
    "\n",
    "df_info = pd.read_table(file_path_info)\n",
    "df_word2vec = pd.read_table(file_path_word2vec)\n",
    "df_tfidf = pd.read_table(file_path_tfidf)\n",
    "df_bert = pd.read_table(file_path_bert)\n",
    "\n",
    "df_genre = pd.read_table(file_path_genre)\n",
    "df_musicnn = pd.read_table(file_path_musicnn)\n",
    "df_mfcc_bow = pd.read_table(file_path_mfcc_bow)\n",
    "df_ivec_256 = pd.read_table(file_path_ivec_256)\n",
    "df_logfluc = pd.read_table(file_path_logfluc)\n",
    "\n",
    "df_genre[\"genre\"] = df_genre[\"genre\"].apply(literal_eval) # convert string into array"
   ]
  },
  {
   "cell_type": "code",
   "execution_count": null,
   "id": "63e479d7",
   "metadata": {
    "ExecuteTime": {
     "end_time": "2023-11-24T20:22:56.642186238Z",
     "start_time": "2023-11-24T20:22:56.504670083Z"
    }
   },
   "outputs": [],
   "source": [
    "# getting the unique genres\n",
    "genres = df_genre.explode(\"genre\")[\"genre\"].values\n",
    "unique_genres = np.unique(genres)\n",
    "unique_genres"
   ]
  },
  {
   "cell_type": "code",
   "execution_count": null,
   "id": "1e43fdd9",
   "metadata": {
    "ExecuteTime": {
     "end_time": "2023-11-24T20:22:56.953591820Z",
     "start_time": "2023-11-24T20:22:56.620626392Z"
    }
   },
   "outputs": [],
   "source": [
    "# Audio-based(cos-sim, MFCC BoW)\n",
    "t2.song_retrieval(df_info, df_mfcc_bow, \"As Long as You Love Me\",\"Justin Bieber\", 10, filter = [\"id\", \"artist\", \"song\", \"sim\"])"
   ]
  },
  {
   "cell_type": "code",
   "execution_count": null,
   "id": "226dcf1c",
   "metadata": {
    "ExecuteTime": {
     "end_time": "2023-11-24T20:22:57.019054731Z",
     "start_time": "2023-11-24T20:22:56.904156780Z"
    }
   },
   "outputs": [],
   "source": [
    "# Audio-based(cos-sim, DNN)\n",
    "t2.song_retrieval(df_info, df_musicnn, \"As Long as You Love Me\",\"Justin Bieber\", 10, filter = [\"id\", \"artist\", \"song\", \"sim\"])"
   ]
  },
  {
   "cell_type": "code",
   "execution_count": null,
   "id": "6964d4a3",
   "metadata": {
    "ExecuteTime": {
     "end_time": "2023-11-24T20:22:57.207600313Z",
     "start_time": "2023-11-24T20:22:57.015767636Z"
    }
   },
   "outputs": [],
   "source": [
    "# Audio-based(cos-sim, ivec 256)\n",
    "t2.song_retrieval(df_info, df_ivec_256, \"As Long as You Love Me\",\"Justin Bieber\", 10, filter = [\"id\", \"artist\", \"song\", \"sim\"])"
   ]
  },
  {
   "cell_type": "code",
   "execution_count": null,
   "id": "45f3e1c4",
   "metadata": {
    "ExecuteTime": {
     "end_time": "2023-11-24T20:22:58.407566123Z",
     "start_time": "2023-11-24T20:22:57.180263312Z"
    }
   },
   "outputs": [],
   "source": [
    "# Audio-based(cos-sim, BLF logfluc)\n",
    "t2.song_retrieval(df_info, df_logfluc, \"As Long as You Love Me\",\"Justin Bieber\", 10, filter = [\"id\", \"artist\", \"song\", \"sim\"])"
   ]
  },
  {
   "cell_type": "code",
   "execution_count": null,
   "id": "55e4aa0b",
   "metadata": {
    "ExecuteTime": {
     "end_time": "2023-11-24T20:22:58.408605501Z",
     "start_time": "2023-11-24T20:22:58.402236874Z"
    }
   },
   "outputs": [],
   "source": [
    "# TODO: select retrieval systems combinations based on perfomance of metrics (grid search)"
   ]
  },
  {
   "cell_type": "code",
   "execution_count": null,
   "id": "54cf840735b894a2",
   "metadata": {
    "ExecuteTime": {
     "end_time": "2023-11-25T13:55:35.285726490Z",
     "start_time": "2023-11-25T13:55:35.233651943Z"
    }
   },
   "outputs": [],
   "source": [
    "def calc_idcg_dataframe(df_genre) -> pd.DataFrame:\n",
    "    if os.path.exists('idcg.tsv'):\n",
    "        return pd.read_table('idcg.tsv')\n",
    "    else:\n",
    "        idcg_value_list = np.empty(len(df_genre))\n",
    "\n",
    "        for index, row in df_genre.iterrows():\n",
    "            genre = row[\"genre\"]\n",
    "            if index % 100 == 0:\n",
    "                print(index, end=\" \")\n",
    "            \n",
    "            df_new_genre = df_genre[df_genre[\"id\"] !=row [\"id\"]]\n",
    "            result_array = df_new_genre[\"genre\"].apply(lambda x: get_rel(x, genre)).values\n",
    "            top_ten_results = np.sort(result_array)[-10:]\n",
    "            idcg = dcg(top_ten_results)\n",
    "            idcg_value_list[index] = idcg\n",
    "\n",
    "        idcgs = pd.DataFrame({\n",
    "            \"id\": df_genre[\"id\"].copy(),\n",
    "            \"idcg_value\": idcg_value_list\n",
    "        })\n",
    "        idcgs.to_csv('idcg.tsv', sep='\\t', encoding='utf-8')\n",
    "\n",
    "        return idcgs\n",
    "    \n",
    "def calc_idcg(row, df_genre) -> int:\n",
    "    genre = row[\"genre\"]\n",
    "    df_new_genre = df_genre[df_genre[\"id\"] != row [\"id\"]]\n",
    "    result_array = df_new_genre[\"genre\"].apply(lambda x: calc_rel(x, genre)).values\n",
    "    top_ten_results = np.sort(result_array)[-10:]\n",
    "    return calc_dcg(top_ten_results)\n",
    "    \n",
    "def calc_rel(i_genre, track_genre):  # todo: rename\n",
    "    t0_genres = set(track_genre)\n",
    "    t1_genres = set(i_genre)\n",
    "    return 2 * len(t0_genres.intersection(t1_genres)) / (len(t0_genres) + len(t1_genres))\n",
    "\n",
    "# https://wikimedia.org/api/rest_v1/media/math/render/svg/3efe45491d555db398ed663107460f81d6ecaf1e\n",
    "def calc_dcg(top_rel: []):\n",
    "    dcg = top_rel[0]\n",
    "    for i in range(2, len(top_rel)+1):\n",
    "        dcg += top_rel[i-1] / np.log2(i + 1) \n",
    "    return dcg\n",
    "\n",
    "def calc_ndcg(row, feature, info): # todo: include df_genre as parameter\n",
    "    song_id = row[\"id\"]\n",
    "    artist = row[\"artist\"]\n",
    "    song_title = row[\"song\"]\n",
    "    song_idcg = row[\"idcg_value\"]\n",
    "    song_genre = row[\"genre\"]\n",
    "\n",
    "    if song_id == \"XWfDJYP0AIVHgsrk\":\n",
    "        print(\"nearly half\")\n",
    "  \n",
    "    retrieved_songs = t2.song_retrieval(info, feature, song_title, artist, 10)\n",
    "    retrieved_rel = retrieved_songs[\"genre\"].apply(lambda x: calc_rel(x, song_genre)).values  # todo: rename\n",
    "\n",
    "    return calc_dcg(retrieved_rel) / song_idcg\n",
    "\n",
    "\n",
    "def get_track_genres(track_id: str, genres: pd.DataFrame) -> [str]:\n",
    "    return genres[genres['id'] == track_id]['genre'].values[0]\n"
   ]
  },
  {
   "cell_type": "code",
   "execution_count": null,
   "id": "4ae1b1befe957c3d",
   "metadata": {
    "ExecuteTime": {
     "end_time": "2023-11-25T13:55:37.969777173Z",
     "start_time": "2023-11-25T13:55:37.935080474Z"
    }
   },
   "outputs": [],
   "source": [
    "df_genre[\"idcg_value\"] = df_genre.apply(lambda x: calc_idcg(x, df_genre), axis=1)\n",
    "df_genre"
   ]
  },
  {
   "cell_type": "code",
   "execution_count": null,
   "id": "7498a40a",
   "metadata": {},
   "outputs": [],
   "source": [
    "df_song_data = pd.merge(df_info, df_genre, on = \"id\")\n",
    "df_song_data"
   ]
  },
  {
   "cell_type": "code",
   "execution_count": null,
   "id": "4dde50895c555a2",
   "metadata": {
    "ExecuteTime": {
     "start_time": "2023-11-25T13:55:39.614340550Z"
    },
    "is_executing": true
   },
   "outputs": [],
   "source": [
    "st = time.time()\n",
    "dcgs_word2vec = df_song_data.apply(calc_ndcg, axis=1, args=(df_word2vec, df_song_data))\n",
    "print('df_word2vec')\n",
    "print(\"Avg ndcg:\", np.mean(dcgs_word2vec))\n",
    "print(\"Execution time(min):\", (time.time()-st)/60)"
   ]
  },
  {
   "cell_type": "code",
   "execution_count": null,
   "id": "f7ed440179930282",
   "metadata": {},
   "outputs": [],
   "source": [
    "st = time.time()\n",
    "dcgs_tfidf = df_song_data.apply(calc_ndcg, axis=1, args=(df_tfidf, df_song_data))\n",
    "print('df_tfidf')\n",
    "print(\"Avg ndcg:\", np.mean(dcgs_tfidf))\n",
    "print(\"Execution time(min):\", (time.time()-st)/60)"
   ]
  },
  {
   "cell_type": "code",
   "execution_count": null,
   "id": "7ce82f5dc8ee039c",
   "metadata": {},
   "outputs": [],
   "source": [
    "st = time.time()\n",
    "dcgs_bert = df_song_data.apply(calc_ndcg, axis=1, args=(df_bert, df_song_data))\n",
    "print('df_bert')\n",
    "print(\"Avg ndcg:\", np.mean(dcgs_bert))\n",
    "print(\"Execution time(min):\", (time.time()-st)/60)"
   ]
  },
  {
   "cell_type": "code",
   "execution_count": null,
   "id": "924393fbd26acd5c",
   "metadata": {},
   "outputs": [],
   "source": [
    "st = time.time()\n",
    "dcgs_mfcc_bow = df_song_data.apply(calc_ndcg, axis=1, args=(df_mfcc_bow, df_song_data))\n",
    "print('df_mfcc_bow')\n",
    "print(\"Avg ndcg:\", np.mean(dcgs_mfcc_bow))\n",
    "print(\"Execution time(min):\", (time.time()-st)/60)"
   ]
  },
  {
   "cell_type": "code",
   "execution_count": null,
   "id": "83505283dbc00beb",
   "metadata": {},
   "outputs": [],
   "source": [
    "st = time.time()\n",
    "dcgs_musicnn = df_song_data.apply(calc_ndcg, axis=1, args=(df_musicnn, df_song_data))\n",
    "print('df_musicnn')\n",
    "print(\"Avg ndcg:\", np.mean(dcgs_musicnn))\n",
    "print(\"Execution time(min):\", (time.time()-st)/60)"
   ]
  },
  {
   "cell_type": "code",
   "execution_count": null,
   "id": "9fc8c298133b8dfb",
   "metadata": {},
   "outputs": [],
   "source": [
    "st = time.time()\n",
    "dcgs_ivec_256 = df_song_data.apply(calc_ndcg, axis=1, args=(df_ivec_256, df_song_data))\n",
    "print('df_ivec_256')\n",
    "print(\"Avg ndcg:\", np.mean(dcgs_ivec_256))\n",
    "print(\"Execution time(min):\", (time.time()-st)/60)"
   ]
  },
  {
   "cell_type": "code",
   "execution_count": null,
   "id": "a1c0d925869fced5",
   "metadata": {},
   "outputs": [],
   "source": [
    "# TODO: when all RS finished -> Please ignore\n",
    "df_dict = {\n",
    "    'df_word2vec': pd.read_table(file_path_word2vec),\n",
    "    'df_tfidf': pd.read_table(file_path_tfidf)\n",
    "}  # todo rest: df_bert, df_mfcc_bow, df_musicnn, df_ivec_256\n",
    "\n",
    "result = {}\n",
    "\n",
    "for key, value in df_dict.items():\n",
    "    print(f\"DataFrame {key}:\")\n",
    "    dcg_value_list = df_info.apply(calc_ndcg, axis=1, args=(value, idcg_matrix,))\n",
    "    result[key] = np.mean(dcg_value_list)"
   ]
  }
 ],
 "metadata": {
  "kernelspec": {
   "display_name": "Python 3",
   "language": "python",
   "name": "python3"
  },
  "language_info": {
   "codemirror_mode": {
    "name": "ipython",
    "version": 3
   },
   "file_extension": ".py",
   "mimetype": "text/x-python",
   "name": "python",
   "nbconvert_exporter": "python",
   "pygments_lexer": "ipython3",
   "version": "3.8.9"
  }
 },
 "nbformat": 4,
 "nbformat_minor": 5
}
