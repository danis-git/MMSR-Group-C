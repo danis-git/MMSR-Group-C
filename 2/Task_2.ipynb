{
 "cells": [
  {
   "cell_type": "code",
   "execution_count": null,
   "id": "67bd487e",
   "metadata": {
    "ExecuteTime": {
     "end_time": "2023-11-25T13:12:52.502669862Z",
     "start_time": "2023-11-25T13:12:50.428299308Z"
    }
   },
   "outputs": [],
   "source": [
    "!pip install pandas\n",
    "import numpy as np\n",
    "import pandas as pd\n",
    "import t2_utils as t2\n",
    "import time \n",
    "from ast import literal_eval\n",
    "import os"
   ]
  },
  {
   "cell_type": "code",
   "execution_count": null,
   "id": "55fe8f6b",
   "metadata": {
    "ExecuteTime": {
     "end_time": "2023-11-25T13:13:05.626050609Z",
     "start_time": "2023-11-25T13:12:52.935788201Z"
    }
   },
   "outputs": [],
   "source": [
    "# change the file path here\n",
    "file_path_base = r\"\"\n",
    "file_path_info = file_path_base + \"id_information_mmsr.tsv\" \n",
    "file_path_word2vec = file_path_base + \"id_lyrics_word2vec_mmsr.tsv\"\n",
    "file_path_tfidf = file_path_base + \"id_lyrics_tf-idf_mmsr.tsv\"\n",
    "file_path_bert = file_path_base + \"id_lyrics_bert_mmsr.tsv\"\n",
    "\n",
    "file_path_genre = file_path_base + \"id_genres_mmsr.tsv\"\n",
    "file_path_musicnn = file_path_base + \"id_musicnn_mmsr.tsv\"\n",
    "file_path_mfcc_bow = file_path_base + \"id_mfcc_bow_mmsr.tsv\"\n",
    "file_path_ivec_256 = file_path_base + \"id_ivec256_mmsr.tsv\"\n",
    "file_path_logfluc = file_path_base + \"id_blf_logfluc_mmsr.tsv\"\n",
    "\n",
    "df_info = pd.read_table(file_path_info)\n",
    "df_word2vec = pd.read_table(file_path_word2vec)\n",
    "df_tfidf = pd.read_table(file_path_tfidf)\n",
    "df_bert = pd.read_table(file_path_bert)\n",
    "\n",
    "df_genre = pd.read_table(file_path_genre)\n",
    "df_musicnn = pd.read_table(file_path_musicnn)\n",
    "df_mfcc_bow = pd.read_table(file_path_mfcc_bow)\n",
    "df_ivec_256 = pd.read_table(file_path_ivec_256)\n",
    "df_logfluc = pd.read_table(file_path_logfluc)\n",
    "\n",
    "df_genre[\"genre\"] = df_genre[\"genre\"].apply(literal_eval) # convert string into array"
   ]
  },
  {
   "cell_type": "code",
   "execution_count": null,
   "id": "63e479d7",
   "metadata": {
    "ExecuteTime": {
     "end_time": "2023-11-24T20:22:56.642186238Z",
     "start_time": "2023-11-24T20:22:56.504670083Z"
    }
   },
   "outputs": [],
   "source": [
    "# getting the unique genres\n",
    "genres = df_genre.explode(\"genre\")[\"genre\"].values\n",
    "unique_genres = np.unique(genres)\n",
    "len(unique_genres)"
   ]
  },
  {
   "cell_type": "code",
   "execution_count": null,
   "id": "1e43fdd9",
   "metadata": {
    "ExecuteTime": {
     "end_time": "2023-11-24T20:22:56.953591820Z",
     "start_time": "2023-11-24T20:22:56.620626392Z"
    }
   },
   "outputs": [],
   "source": [
    "# Audio-based(cos-sim, MFCC BoW)\n",
    "t2.song_retrieval(df_info, df_mfcc_bow, \"As Long as You Love Me\",\"Justin Bieber\", 10, filter = [\"id\", \"artist\", \"song\", \"sim\"])"
   ]
  },
  {
   "cell_type": "code",
   "execution_count": null,
   "id": "226dcf1c",
   "metadata": {
    "ExecuteTime": {
     "end_time": "2023-11-24T20:22:57.019054731Z",
     "start_time": "2023-11-24T20:22:56.904156780Z"
    }
   },
   "outputs": [],
   "source": [
    "# Audio-based(cos-sim, DNN)\n",
    "t2.song_retrieval(df_info, df_musicnn, \"As Long as You Love Me\",\"Justin Bieber\", 10, filter = [\"id\", \"artist\", \"song\", \"sim\"])"
   ]
  },
  {
   "cell_type": "code",
   "execution_count": null,
   "id": "6964d4a3",
   "metadata": {
    "ExecuteTime": {
     "end_time": "2023-11-24T20:22:57.207600313Z",
     "start_time": "2023-11-24T20:22:57.015767636Z"
    }
   },
   "outputs": [],
   "source": [
    "# Audio-based(cos-sim, ivec 256)\n",
    "t2.song_retrieval(df_info, df_ivec_256, \"As Long as You Love Me\",\"Justin Bieber\", 10, filter = [\"id\", \"artist\", \"song\", \"sim\"])"
   ]
  },
  {
   "cell_type": "code",
   "execution_count": null,
   "id": "45f3e1c4",
   "metadata": {
    "ExecuteTime": {
     "end_time": "2023-11-24T20:22:58.407566123Z",
     "start_time": "2023-11-24T20:22:57.180263312Z"
    }
   },
   "outputs": [],
   "source": [
    "# Audio-based(cos-sim, BLF logfluc)\n",
    "t2.song_retrieval(df_info, df_logfluc, \"As Long as You Love Me\",\"Justin Bieber\", 10, filter = [\"id\", \"artist\", \"song\", \"sim\"])"
   ]
  },
  {
   "cell_type": "code",
   "execution_count": null,
   "id": "4ae1b1befe957c3d",
   "metadata": {
    "ExecuteTime": {
     "end_time": "2023-11-25T13:55:37.969777173Z",
     "start_time": "2023-11-25T13:55:37.935080474Z"
    }
   },
   "outputs": [],
   "source": [
    "df_genre[\"idcg_value\"] = df_genre.apply(lambda x: t2.idcg(x, df_genre), axis=1)\n",
    "df_genre"
   ]
  },
  {
   "cell_type": "code",
   "execution_count": null,
   "id": "83b2dd80",
   "metadata": {},
   "outputs": [],
   "source": [
    "df_song_data = pd.merge(df_info, df_genre, on = \"id\")\n",
    "df_song_data"
   ]
  },
  {
   "cell_type": "code",
   "execution_count": null,
   "id": "e53f2a06",
   "metadata": {},
   "outputs": [],
   "source": [
    "# Warning: running this can take a long time\n",
    "st = time.time()\n",
    "retr_systems = [(\"random baseline\",df_song_data, t2.cos_sim), (\"word2vec euc-sim\", df_word2vec, t2.euc_sim), \n",
    "                (\"tfidf cos-sim\", df_tfidf, t2.cos_sim), (\"bert cos-sim\", df_bert, t2.cos_sim), \n",
    "                (\"mfcc_bow cos-sim\", df_mfcc_bow, t2.cos_sim), (\"musicnn cos-sim\", df_musicnn, t2.cos_sim), \n",
    "                (\"ivec_256 cos-sim\", df_ivec_256, t2.cos_sim), (\"logfluc cos-sim\", df_logfluc, t2.cos_sim)]\n",
    "\n",
    "retr_systems_columns = [\"Avg ndcg\", \"Avg genre diversity\", \"Genre coverage\"]\n",
    "retr_systems_index = [tupl[0] for tupl in retr_systems]\n",
    "\n",
    "df_metrics = pd.DataFrame(columns=retr_systems_columns, index = retr_systems_index)\n",
    "\n",
    "for system in retr_systems:\n",
    "    index, feature_set, sim_func = system\n",
    "    metrics = t2.evaluation_pipeline(df_song_data, feature_set, sim_func, df_song_data.equals(feature_set))\n",
    "    df_metrics.loc[index] = metrics\n",
    "     \n",
    "print(\"Execution time(min):\", (time.time()-st)/60)\n",
    "df_metrics"
   ]
  },
  {
   "cell_type": "code",
   "execution_count": null,
   "id": "cf42b0ee",
   "metadata": {},
   "outputs": [],
   "source": [
    "# below this cell the evaluation pipeline for every retrieval system is run individually, so it can be ignored"
   ]
  },
  {
   "cell_type": "code",
   "execution_count": null,
   "id": "a97be6c1",
   "metadata": {},
   "outputs": [],
   "source": [
    "st = time.time()\n",
    "metrics_random = t2.evaluation_pipeline(df_song_data, df_song_data, t2.cos_sim, True)\n",
    "print(\"random\")\n",
    "print(\"Avg ndcg:\", metrics_word2vec[0])\n",
    "print(\"Avg genre diversity:\", metrics_word2vec[1])\n",
    "print(\"genre coverage:\", metrics_word2vec[2])\n",
    "print(\"Execution time(min):\", (time.time()-st)/60)"
   ]
  },
  {
   "cell_type": "code",
   "execution_count": null,
   "id": "4dde50895c555a2",
   "metadata": {
    "ExecuteTime": {
     "start_time": "2023-11-25T13:55:39.614340550Z"
    },
    "is_executing": true
   },
   "outputs": [],
   "source": [
    "st = time.time()\n",
    "metrics_word2vec = t2.evaluation_pipeline(df_song_data, df_word2vec, t2.euc_sim)\n",
    "print(\"word2vec\")\n",
    "print(\"Avg ndcg:\", metrics_word2vec[0])\n",
    "print(\"Avg genre diversity:\", metrics_word2vec[1])\n",
    "print(\"genre coverage:\", metrics_word2vec[2])\n",
    "print(\"Execution time(min):\", (time.time()-st)/60)"
   ]
  },
  {
   "cell_type": "code",
   "execution_count": null,
   "id": "f7ed440179930282",
   "metadata": {},
   "outputs": [],
   "source": [
    "st = time.time()\n",
    "metrics_tfidf = t2.evaluation_pipeline(df_song_data, df_tfidf, t2.cos_sim)\n",
    "print(\"tfidf\")\n",
    "print(\"Avg ndcg:\", metrics_tfidf[0])\n",
    "print(\"Avg genre diversity:\", metrics_tfidf[1])\n",
    "print(\"genre coverage:\", metrics_tfidf[2])\n",
    "print(\"Execution time(min):\", (time.time()-st)/60)"
   ]
  },
  {
   "cell_type": "code",
   "execution_count": null,
   "id": "7ce82f5dc8ee039c",
   "metadata": {},
   "outputs": [],
   "source": [
    "st = time.time()\n",
    "metrics_bert = t2.evaluation_pipeline(df_song_data, df_bert, t2.cos_sim)\n",
    "print(\"bert\")\n",
    "print(\"Avg ndcg:\", metrics_bert[0])\n",
    "print(\"Avg genre diversity:\", metrics_bert[1])\n",
    "print(\"genre coverage:\", metrics_bert[2])\n",
    "print(\"Execution time(min):\", (time.time()-st)/60)"
   ]
  },
  {
   "cell_type": "code",
   "execution_count": null,
   "id": "924393fbd26acd5c",
   "metadata": {},
   "outputs": [],
   "source": [
    "st = time.time()\n",
    "metrics_mfcc_bow = t2.evaluation_pipeline(df_song_data,df_mfcc_bow, t2.cos_sim)\n",
    "print(\"mfcc_bow\")\n",
    "print(\"Avg ndcg:\", metrics_mfcc_bow[0])\n",
    "print(\"Avg genre diversity:\", metrics_mfcc_bow[1])\n",
    "print(\"genre coverage:\", metrics_mfcc_bow[2])\n",
    "print(\"Execution time(min):\", (time.time()-st)/60)"
   ]
  },
  {
   "cell_type": "code",
   "execution_count": null,
   "id": "83505283dbc00beb",
   "metadata": {},
   "outputs": [],
   "source": [
    "st = time.time()\n",
    "metrics_musicnn = t2.evaluation_pipeline(df_song_data, df_musicnn, t2.cos_sim)\n",
    "print(\"musicnn\")\n",
    "print(\"Avg ndcg:\", metrics_musicnn[0])\n",
    "print(\"Avg genre diversity:\", metrics_musicnn[1])\n",
    "print(\"genre coverage:\", metrics_musicnn[2])\n",
    "print(\"Execution time(min):\", (time.time()-st)/60)"
   ]
  },
  {
   "cell_type": "code",
   "execution_count": null,
   "id": "9fc8c298133b8dfb",
   "metadata": {},
   "outputs": [],
   "source": [
    "st = time.time()\n",
    "metrics_ivec_256 = t2.evaluation_pipeline(df_song_data, df_ivec_256, t2.cos_sim)\n",
    "print(\"ivec_256\")\n",
    "print(\"Avg ndcg:\", metrics_ivec_256[0])\n",
    "print(\"Avg genre diversity:\", metrics_ivec_256[1])\n",
    "print(\"genre coverage:\", metrics_ivec_256[2])\n",
    "print(\"Execution time(min):\", (time.time()-st)/60)"
   ]
  },
  {
   "cell_type": "code",
   "execution_count": null,
   "id": "91e31ab9",
   "metadata": {},
   "outputs": [],
   "source": [
    "st = time.time()\n",
    "metrics_logfluc = t2.evaluation_pipeline(df_song_data, df_logfluc, t2.cos_sim)\n",
    "print(\"logfluc\")\n",
    "print(\"Avg ndcg:\", metrics_logfluc[0])\n",
    "print(\"Avg genre diversity:\", metrics_logfluc[1])\n",
    "print(\"genre coverage:\", metrics_logfluc[2])\n",
    "print(\"Execution time(min):\", (time.time()-st)/60)"
   ]
  },
  {
   "cell_type": "code",
   "execution_count": null,
   "id": "a1c0d925869fced5",
   "metadata": {},
   "outputs": [],
   "source": [
    "# TODO: when all RS finished -> Please ignore\n",
    "df_dict = {\n",
    "    'df_word2vec': pd.read_table(file_path_word2vec),\n",
    "    'df_tfidf': pd.read_table(file_path_tfidf)\n",
    "}  # todo rest: df_bert, df_mfcc_bow, df_musicnn, df_ivec_256\n",
    "\n",
    "result = {}\n",
    "\n",
    "for key, value in df_dict.items():\n",
    "    print(f\"DataFrame {key}:\")\n",
    "    dcg_value_list = df_info.apply(calc_ndcg, axis=1, args=(value, idcg_matrix,))\n",
    "    result[key] = np.mean(dcg_value_list)"
   ]
  }
 ],
 "metadata": {
  "kernelspec": {
   "display_name": "Python 3",
   "language": "python",
   "name": "python3"
  },
  "language_info": {
   "codemirror_mode": {
    "name": "ipython",
    "version": 3
   },
   "file_extension": ".py",
   "mimetype": "text/x-python",
   "name": "python",
   "nbconvert_exporter": "python",
   "pygments_lexer": "ipython3",
   "version": "3.8.9"
  }
 },
 "nbformat": 4,
 "nbformat_minor": 5
}
