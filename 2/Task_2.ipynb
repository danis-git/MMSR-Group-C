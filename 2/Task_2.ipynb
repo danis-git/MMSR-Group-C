{
 "cells": [
  {
   "cell_type": "code",
   "execution_count": 1,
   "id": "67bd487e",
   "metadata": {
    "ExecuteTime": {
     "end_time": "2023-11-25T13:12:52.502669862Z",
     "start_time": "2023-11-25T13:12:50.428299308Z"
    }
   },
   "outputs": [
    {
     "name": "stdout",
     "output_type": "stream",
     "text": [
      "Defaulting to user installation because normal site-packages is not writeable\r\n",
      "Requirement already satisfied: pandas in /home/dani/.local/lib/python3.10/site-packages (2.1.2)\r\n",
      "Requirement already satisfied: pytz>=2020.1 in /usr/lib/python3/dist-packages (from pandas) (2022.1)\r\n",
      "Requirement already satisfied: tzdata>=2022.1 in /home/dani/.local/lib/python3.10/site-packages (from pandas) (2023.3)\r\n",
      "Requirement already satisfied: numpy<2,>=1.22.4 in /usr/local/lib/python3.10/dist-packages (from pandas) (1.26.1)\r\n",
      "Requirement already satisfied: python-dateutil>=2.8.2 in /home/dani/.local/lib/python3.10/site-packages (from pandas) (2.8.2)\r\n",
      "Requirement already satisfied: six>=1.5 in /usr/lib/python3/dist-packages (from python-dateutil>=2.8.2->pandas) (1.16.0)\r\n"
     ]
    }
   ],
   "source": [
    "!pip install pandas\n",
    "import numpy as np\n",
    "import pandas as pd\n",
    "import t2_utils as t2\n",
    "from ast import literal_eval\n",
    "import os\n",
    "import math"
   ]
  },
  {
   "cell_type": "code",
   "execution_count": 2,
   "id": "55fe8f6b",
   "metadata": {
    "ExecuteTime": {
     "end_time": "2023-11-25T13:13:05.626050609Z",
     "start_time": "2023-11-25T13:12:52.935788201Z"
    }
   },
   "outputs": [
    {
     "data": {
      "text/plain": "                     id                       artist  \\\n0      01Yfj2T3YTwJ1Yfy                  We As Human   \n1      01gyRHLquwXDlhkO         The Notorious B.I.G.   \n2      01rMxQv6vhyE1oQX          Against the Current   \n3      02RGE9FNH65RtMS7                     Barthezz   \n4      02ZnlCGZEbkfCDxo                Laura Pausini   \n...                 ...                          ...   \n10090  zyzILCQvVeUFIINi                Crowded House   \n10091  zzgS4ZqyswamEWNj               Britney Spears   \n10092  zzoFYDMlqU1X2zz1                   Thundercat   \n10093  zzpkRCGA5ud8q4mv                 Otis Redding   \n10094  zzx8CWdM7qkxKQpC  Ted Leo and the Pharmacists   \n\n                                            song  \\\n0      Take The Bullets Away (feat. Lacey Sturm)   \n1                           Somebody's Gotta Die   \n2                                 Chasing Ghosts   \n3                                       Infected   \n4                               Tra Te E Il Mare   \n...                                          ...   \n10090                              When You Come   \n10091                   My Only Wish (This Year)   \n10092                                        DUI   \n10093                               Rock Me Baby   \n10094                    Counting Down the Hours   \n\n                                        album_name  \n0                                      We As Human  \n1            Life After Death (Remastered Edition)  \n2                                     In Our Bones  \n3             Trance - The Early Years (1997-2002)  \n4      The Best of Laura Pausini - E Ritorno Da Te  \n...                                            ...  \n10090                            Temple Of Low Men  \n10091                           Platinum Christmas  \n10092                                        Drunk  \n10093                                    Otis Blue  \n10094                             Shake the Sheets  \n\n[10095 rows x 4 columns]",
      "text/html": "<div>\n<style scoped>\n    .dataframe tbody tr th:only-of-type {\n        vertical-align: middle;\n    }\n\n    .dataframe tbody tr th {\n        vertical-align: top;\n    }\n\n    .dataframe thead th {\n        text-align: right;\n    }\n</style>\n<table border=\"1\" class=\"dataframe\">\n  <thead>\n    <tr style=\"text-align: right;\">\n      <th></th>\n      <th>id</th>\n      <th>artist</th>\n      <th>song</th>\n      <th>album_name</th>\n    </tr>\n  </thead>\n  <tbody>\n    <tr>\n      <th>0</th>\n      <td>01Yfj2T3YTwJ1Yfy</td>\n      <td>We As Human</td>\n      <td>Take The Bullets Away (feat. Lacey Sturm)</td>\n      <td>We As Human</td>\n    </tr>\n    <tr>\n      <th>1</th>\n      <td>01gyRHLquwXDlhkO</td>\n      <td>The Notorious B.I.G.</td>\n      <td>Somebody's Gotta Die</td>\n      <td>Life After Death (Remastered Edition)</td>\n    </tr>\n    <tr>\n      <th>2</th>\n      <td>01rMxQv6vhyE1oQX</td>\n      <td>Against the Current</td>\n      <td>Chasing Ghosts</td>\n      <td>In Our Bones</td>\n    </tr>\n    <tr>\n      <th>3</th>\n      <td>02RGE9FNH65RtMS7</td>\n      <td>Barthezz</td>\n      <td>Infected</td>\n      <td>Trance - The Early Years (1997-2002)</td>\n    </tr>\n    <tr>\n      <th>4</th>\n      <td>02ZnlCGZEbkfCDxo</td>\n      <td>Laura Pausini</td>\n      <td>Tra Te E Il Mare</td>\n      <td>The Best of Laura Pausini - E Ritorno Da Te</td>\n    </tr>\n    <tr>\n      <th>...</th>\n      <td>...</td>\n      <td>...</td>\n      <td>...</td>\n      <td>...</td>\n    </tr>\n    <tr>\n      <th>10090</th>\n      <td>zyzILCQvVeUFIINi</td>\n      <td>Crowded House</td>\n      <td>When You Come</td>\n      <td>Temple Of Low Men</td>\n    </tr>\n    <tr>\n      <th>10091</th>\n      <td>zzgS4ZqyswamEWNj</td>\n      <td>Britney Spears</td>\n      <td>My Only Wish (This Year)</td>\n      <td>Platinum Christmas</td>\n    </tr>\n    <tr>\n      <th>10092</th>\n      <td>zzoFYDMlqU1X2zz1</td>\n      <td>Thundercat</td>\n      <td>DUI</td>\n      <td>Drunk</td>\n    </tr>\n    <tr>\n      <th>10093</th>\n      <td>zzpkRCGA5ud8q4mv</td>\n      <td>Otis Redding</td>\n      <td>Rock Me Baby</td>\n      <td>Otis Blue</td>\n    </tr>\n    <tr>\n      <th>10094</th>\n      <td>zzx8CWdM7qkxKQpC</td>\n      <td>Ted Leo and the Pharmacists</td>\n      <td>Counting Down the Hours</td>\n      <td>Shake the Sheets</td>\n    </tr>\n  </tbody>\n</table>\n<p>10095 rows × 4 columns</p>\n</div>"
     },
     "execution_count": 2,
     "metadata": {},
     "output_type": "execute_result"
    }
   ],
   "source": [
    "# change the file path here\n",
    "file_path_base = r\"./datasets/\"\n",
    "file_path_info = file_path_base + \"id_information_mmsr.tsv\" \n",
    "file_path_word2vec = file_path_base + \"id_lyrics_word2vec_mmsr.tsv\"\n",
    "file_path_tfidf = file_path_base + \"id_lyrics_tf-idf_mmsr.tsv\"\n",
    "file_path_bert = file_path_base + \"id_lyrics_bert_mmsr.tsv\"\n",
    "\n",
    "file_path_genre = file_path_base + \"id_genres_mmsr.tsv\"\n",
    "file_path_musicnn = file_path_base + \"id_musicnn_mmsr.tsv\"\n",
    "file_path_mfcc_bow = file_path_base + \"id_mfcc_bow_mmsr.tsv\"\n",
    "file_path_ivec_256 = file_path_base + \"id_ivec256_mmsr.tsv\"\n",
    "file_path_logfluc = file_path_base + \"id_blf_logfluc_mmsr.tsv\"\n",
    "\n",
    "df_info = pd.read_table(file_path_info)\n",
    "df_word2vec = pd.read_table(file_path_word2vec)\n",
    "df_tfidf = pd.read_table(file_path_tfidf)\n",
    "df_bert = pd.read_table(file_path_bert)\n",
    "\n",
    "df_genre = pd.read_table(file_path_genre)\n",
    "df_musicnn = pd.read_table(file_path_musicnn)\n",
    "df_mfcc_bow = pd.read_table(file_path_mfcc_bow)\n",
    "df_ivec_256 = pd.read_table(file_path_ivec_256)\n",
    "df_logfluc = pd.read_table(file_path_logfluc)\n",
    "\n",
    "df_genre[\"genre\"] = df_genre[\"genre\"].apply(literal_eval) # convert string into array\n",
    "df_info"
   ]
  },
  {
   "cell_type": "code",
   "execution_count": 3,
   "id": "63e479d7",
   "metadata": {
    "ExecuteTime": {
     "end_time": "2023-11-24T20:22:56.642186238Z",
     "start_time": "2023-11-24T20:22:56.504670083Z"
    }
   },
   "outputs": [
    {
     "data": {
      "text/plain": "array(['21st century classical', '8 bit', 'a cappella', ..., 'yoga',\n       'zen', 'zeuhl'], dtype=object)"
     },
     "execution_count": 3,
     "metadata": {},
     "output_type": "execute_result"
    }
   ],
   "source": [
    "# getting the unique genres\n",
    "genres = df_genre.explode(\"genre\")[\"genre\"].values\n",
    "unique_genres = np.unique(genres)\n",
    "unique_genres"
   ]
  },
  {
   "cell_type": "code",
   "execution_count": 4,
   "id": "1e43fdd9",
   "metadata": {
    "ExecuteTime": {
     "end_time": "2023-11-24T20:22:56.953591820Z",
     "start_time": "2023-11-24T20:22:56.620626392Z"
    }
   },
   "outputs": [
    {
     "data": {
      "text/plain": "                     id                artist               song       sim\n10002  zLIZEr0zFataPTEI         Stacie Orrico         Hesitation  0.954780\n2418   Edv33hXmNZO1stua        Fickle Friends  Hard To Be Myself  0.952962\n6637   f0IDbcNWwCklUrwS                 Lafee          Heul doch  0.951637\n3213   Jf4admhx750q0aBD              Rita Lee      Erva Venenosa  0.949643\n9675   xHSvLWaBLBPPjTC3             Afro-Dite    Never Let It Go  0.949416\n6013   bHgc75T9woUNcCoI        Britney Spears       Do Somethin'  0.948495\n8463   pxzFlX2EtjGHbOZB        Jennifer Lopez         Do It Well  0.948468\n103    0aK8gzuVHgZDf7lR  La Oreja de Van Gogh    Muñeca de trapo  0.948045\n6945   guEE7A3XUyFEyJVt        Ashley Tisdale        Goin' Crazy  0.947894\n8191   oJSHuTv7u1TVk6Nu       Little Big Town       Summer Fever  0.947790",
      "text/html": "<div>\n<style scoped>\n    .dataframe tbody tr th:only-of-type {\n        vertical-align: middle;\n    }\n\n    .dataframe tbody tr th {\n        vertical-align: top;\n    }\n\n    .dataframe thead th {\n        text-align: right;\n    }\n</style>\n<table border=\"1\" class=\"dataframe\">\n  <thead>\n    <tr style=\"text-align: right;\">\n      <th></th>\n      <th>id</th>\n      <th>artist</th>\n      <th>song</th>\n      <th>sim</th>\n    </tr>\n  </thead>\n  <tbody>\n    <tr>\n      <th>10002</th>\n      <td>zLIZEr0zFataPTEI</td>\n      <td>Stacie Orrico</td>\n      <td>Hesitation</td>\n      <td>0.954780</td>\n    </tr>\n    <tr>\n      <th>2418</th>\n      <td>Edv33hXmNZO1stua</td>\n      <td>Fickle Friends</td>\n      <td>Hard To Be Myself</td>\n      <td>0.952962</td>\n    </tr>\n    <tr>\n      <th>6637</th>\n      <td>f0IDbcNWwCklUrwS</td>\n      <td>Lafee</td>\n      <td>Heul doch</td>\n      <td>0.951637</td>\n    </tr>\n    <tr>\n      <th>3213</th>\n      <td>Jf4admhx750q0aBD</td>\n      <td>Rita Lee</td>\n      <td>Erva Venenosa</td>\n      <td>0.949643</td>\n    </tr>\n    <tr>\n      <th>9675</th>\n      <td>xHSvLWaBLBPPjTC3</td>\n      <td>Afro-Dite</td>\n      <td>Never Let It Go</td>\n      <td>0.949416</td>\n    </tr>\n    <tr>\n      <th>6013</th>\n      <td>bHgc75T9woUNcCoI</td>\n      <td>Britney Spears</td>\n      <td>Do Somethin'</td>\n      <td>0.948495</td>\n    </tr>\n    <tr>\n      <th>8463</th>\n      <td>pxzFlX2EtjGHbOZB</td>\n      <td>Jennifer Lopez</td>\n      <td>Do It Well</td>\n      <td>0.948468</td>\n    </tr>\n    <tr>\n      <th>103</th>\n      <td>0aK8gzuVHgZDf7lR</td>\n      <td>La Oreja de Van Gogh</td>\n      <td>Muñeca de trapo</td>\n      <td>0.948045</td>\n    </tr>\n    <tr>\n      <th>6945</th>\n      <td>guEE7A3XUyFEyJVt</td>\n      <td>Ashley Tisdale</td>\n      <td>Goin' Crazy</td>\n      <td>0.947894</td>\n    </tr>\n    <tr>\n      <th>8191</th>\n      <td>oJSHuTv7u1TVk6Nu</td>\n      <td>Little Big Town</td>\n      <td>Summer Fever</td>\n      <td>0.947790</td>\n    </tr>\n  </tbody>\n</table>\n</div>"
     },
     "execution_count": 4,
     "metadata": {},
     "output_type": "execute_result"
    }
   ],
   "source": [
    "# Audio-based(cos-sim, MFCC BoW)\n",
    "t2.song_retrieval(df_info, df_mfcc_bow, \"As Long as You Love Me\",\"Justin Bieber\", 10)"
   ]
  },
  {
   "cell_type": "code",
   "execution_count": 5,
   "id": "226dcf1c",
   "metadata": {
    "ExecuteTime": {
     "end_time": "2023-11-24T20:22:57.019054731Z",
     "start_time": "2023-11-24T20:22:56.904156780Z"
    }
   },
   "outputs": [
    {
     "data": {
      "text/plain": "                    id            artist                 song       sim\n8558  qV6PNwSOpoXJAK8w     Austin Mahone      What About Love  0.993759\n5449  XZbrOEyVrC83SDhh  Enrique Iglesias  Takin' Back My Love  0.993597\n9387  vWE0IiSmp2lGcUjy       Chris Brown           Gimme That  0.993305\n7871  mRLalNcr03bQfkko   Whitney Houston       In My Business  0.991909\n7279  isgB2lA8MuLtgHMY     Pet Shop Boys            Love etc.  0.989254\n9784  xvv74n6x1kz49rst             Anahí           Mi Delirio  0.988550\n4362  QkGLVkuaVsni5k6x     Mylène Farmer      Oui Mais... Non  0.988288\n6968  h0ICQ49mSTK9IBl6     Kylie Minogue            Chocolate  0.988266\n8443  prX1H54mvNqx5FXr              WJSN             PERFECT!  0.986284\n5139  VYr4H3Z48gKohuuO      Havana Brown      Better Not Said  0.985694",
      "text/html": "<div>\n<style scoped>\n    .dataframe tbody tr th:only-of-type {\n        vertical-align: middle;\n    }\n\n    .dataframe tbody tr th {\n        vertical-align: top;\n    }\n\n    .dataframe thead th {\n        text-align: right;\n    }\n</style>\n<table border=\"1\" class=\"dataframe\">\n  <thead>\n    <tr style=\"text-align: right;\">\n      <th></th>\n      <th>id</th>\n      <th>artist</th>\n      <th>song</th>\n      <th>sim</th>\n    </tr>\n  </thead>\n  <tbody>\n    <tr>\n      <th>8558</th>\n      <td>qV6PNwSOpoXJAK8w</td>\n      <td>Austin Mahone</td>\n      <td>What About Love</td>\n      <td>0.993759</td>\n    </tr>\n    <tr>\n      <th>5449</th>\n      <td>XZbrOEyVrC83SDhh</td>\n      <td>Enrique Iglesias</td>\n      <td>Takin' Back My Love</td>\n      <td>0.993597</td>\n    </tr>\n    <tr>\n      <th>9387</th>\n      <td>vWE0IiSmp2lGcUjy</td>\n      <td>Chris Brown</td>\n      <td>Gimme That</td>\n      <td>0.993305</td>\n    </tr>\n    <tr>\n      <th>7871</th>\n      <td>mRLalNcr03bQfkko</td>\n      <td>Whitney Houston</td>\n      <td>In My Business</td>\n      <td>0.991909</td>\n    </tr>\n    <tr>\n      <th>7279</th>\n      <td>isgB2lA8MuLtgHMY</td>\n      <td>Pet Shop Boys</td>\n      <td>Love etc.</td>\n      <td>0.989254</td>\n    </tr>\n    <tr>\n      <th>9784</th>\n      <td>xvv74n6x1kz49rst</td>\n      <td>Anahí</td>\n      <td>Mi Delirio</td>\n      <td>0.988550</td>\n    </tr>\n    <tr>\n      <th>4362</th>\n      <td>QkGLVkuaVsni5k6x</td>\n      <td>Mylène Farmer</td>\n      <td>Oui Mais... Non</td>\n      <td>0.988288</td>\n    </tr>\n    <tr>\n      <th>6968</th>\n      <td>h0ICQ49mSTK9IBl6</td>\n      <td>Kylie Minogue</td>\n      <td>Chocolate</td>\n      <td>0.988266</td>\n    </tr>\n    <tr>\n      <th>8443</th>\n      <td>prX1H54mvNqx5FXr</td>\n      <td>WJSN</td>\n      <td>PERFECT!</td>\n      <td>0.986284</td>\n    </tr>\n    <tr>\n      <th>5139</th>\n      <td>VYr4H3Z48gKohuuO</td>\n      <td>Havana Brown</td>\n      <td>Better Not Said</td>\n      <td>0.985694</td>\n    </tr>\n  </tbody>\n</table>\n</div>"
     },
     "execution_count": 5,
     "metadata": {},
     "output_type": "execute_result"
    }
   ],
   "source": [
    "# Audio-based(cos-sim, DNN)\n",
    "t2.song_retrieval(df_info, df_musicnn, \"As Long as You Love Me\",\"Justin Bieber\", 10)"
   ]
  },
  {
   "cell_type": "code",
   "execution_count": 6,
   "id": "6964d4a3",
   "metadata": {
    "ExecuteTime": {
     "end_time": "2023-11-24T20:22:57.207600313Z",
     "start_time": "2023-11-24T20:22:57.015767636Z"
    }
   },
   "outputs": [
    {
     "data": {
      "text/plain": "                    id            artist                              song  \\\n1357  893k8e6RMnBbgd8f           Shakira  Waka Waka (This Time for Africa)   \n8258  ojl88C6GatkYvRcY        India.Arie                          Good Man   \n826   4u4mvN9CL3okJvsX     Queen Latifah                        U.N.I.T.Y.   \n4293  QMNzlYdOjMr7umlL      Selena Gomez                         Slow Down   \n5449  XZbrOEyVrC83SDhh  Enrique Iglesias               Takin' Back My Love   \n2802  H2YvsQ7to0xyZDDL        Naked Eyes            When The Lights Go Out   \n6305  dCPZXsR5zuoiqhgQ     Lauren Alaina                    Next Boyfriend   \n8737  rc8PYpsvaD5ZdZAx          Owl City                        Plant Life   \n5218  W76HHMmaR55GOdKo      Taylor Swift          Look What You Made Me Do   \n517   2ypE2PjWKJLoyHsR       Lauryn Hill                         Superstar   \n\n           sim  \n1357  0.445709  \n8258  0.441267  \n826   0.433253  \n4293  0.390823  \n5449  0.389910  \n2802  0.385859  \n6305  0.378210  \n8737  0.373466  \n5218  0.364804  \n517   0.364701  ",
      "text/html": "<div>\n<style scoped>\n    .dataframe tbody tr th:only-of-type {\n        vertical-align: middle;\n    }\n\n    .dataframe tbody tr th {\n        vertical-align: top;\n    }\n\n    .dataframe thead th {\n        text-align: right;\n    }\n</style>\n<table border=\"1\" class=\"dataframe\">\n  <thead>\n    <tr style=\"text-align: right;\">\n      <th></th>\n      <th>id</th>\n      <th>artist</th>\n      <th>song</th>\n      <th>sim</th>\n    </tr>\n  </thead>\n  <tbody>\n    <tr>\n      <th>1357</th>\n      <td>893k8e6RMnBbgd8f</td>\n      <td>Shakira</td>\n      <td>Waka Waka (This Time for Africa)</td>\n      <td>0.445709</td>\n    </tr>\n    <tr>\n      <th>8258</th>\n      <td>ojl88C6GatkYvRcY</td>\n      <td>India.Arie</td>\n      <td>Good Man</td>\n      <td>0.441267</td>\n    </tr>\n    <tr>\n      <th>826</th>\n      <td>4u4mvN9CL3okJvsX</td>\n      <td>Queen Latifah</td>\n      <td>U.N.I.T.Y.</td>\n      <td>0.433253</td>\n    </tr>\n    <tr>\n      <th>4293</th>\n      <td>QMNzlYdOjMr7umlL</td>\n      <td>Selena Gomez</td>\n      <td>Slow Down</td>\n      <td>0.390823</td>\n    </tr>\n    <tr>\n      <th>5449</th>\n      <td>XZbrOEyVrC83SDhh</td>\n      <td>Enrique Iglesias</td>\n      <td>Takin' Back My Love</td>\n      <td>0.389910</td>\n    </tr>\n    <tr>\n      <th>2802</th>\n      <td>H2YvsQ7to0xyZDDL</td>\n      <td>Naked Eyes</td>\n      <td>When The Lights Go Out</td>\n      <td>0.385859</td>\n    </tr>\n    <tr>\n      <th>6305</th>\n      <td>dCPZXsR5zuoiqhgQ</td>\n      <td>Lauren Alaina</td>\n      <td>Next Boyfriend</td>\n      <td>0.378210</td>\n    </tr>\n    <tr>\n      <th>8737</th>\n      <td>rc8PYpsvaD5ZdZAx</td>\n      <td>Owl City</td>\n      <td>Plant Life</td>\n      <td>0.373466</td>\n    </tr>\n    <tr>\n      <th>5218</th>\n      <td>W76HHMmaR55GOdKo</td>\n      <td>Taylor Swift</td>\n      <td>Look What You Made Me Do</td>\n      <td>0.364804</td>\n    </tr>\n    <tr>\n      <th>517</th>\n      <td>2ypE2PjWKJLoyHsR</td>\n      <td>Lauryn Hill</td>\n      <td>Superstar</td>\n      <td>0.364701</td>\n    </tr>\n  </tbody>\n</table>\n</div>"
     },
     "execution_count": 6,
     "metadata": {},
     "output_type": "execute_result"
    }
   ],
   "source": [
    "# Audio-based(cos-sim, ivec 256)\n",
    "t2.song_retrieval(df_info, df_ivec_256, \"As Long as You Love Me\",\"Justin Bieber\", 10)"
   ]
  },
  {
   "cell_type": "code",
   "execution_count": 7,
   "id": "45f3e1c4",
   "metadata": {
    "ExecuteTime": {
     "end_time": "2023-11-24T20:22:58.407566123Z",
     "start_time": "2023-11-24T20:22:57.180263312Z"
    }
   },
   "outputs": [
    {
     "name": "stderr",
     "output_type": "stream",
     "text": [
      "/home/dani/Dropbox/JKU/Semester-7/Multimedia_Search_and_Retrieval/Excercises/MMSR-Group-C/2/t2_utils.py:9: RuntimeWarning: invalid value encountered in scalar divide\n",
      "  return np.dot(query,target)/(norm(query)*norm(target))\n"
     ]
    },
    {
     "data": {
      "text/plain": "                    id              artist                     song       sim\n4022  Ol8IEG2wq5RiPZet  Martine McCutcheon           Perfect Moment  0.977314\n5380  X5ihEDR0EaR5ZzbP      Breakfast Club           Right On Track  0.976273\n9854  yNzOlQZxlZ9wxtZW              Saliva             Unshatter Me  0.975649\n4212  Pv3jF0mUelZBNJ1E                a-ha         Under The Makeup  0.975570\n801   4lmk8cuLmcBpUEPk           Amaranthe                    Dream  0.975025\n6044  bU9zsndJzZ8fRZ92            Coldplay                 Paradise  0.974957\n6423  dmw7HloKDNqE9028    The Color Morale                    Walls  0.974855\n3958  OP7MHZ2uuSgbBIBI     Backstreet Boys     Safest Place to Hide  0.974813\n1190  7D1H0DTrp6sztZeO              Avicii  Levels (Skrillex Remix)  0.974772\n496   2r4vxtHw5W0Fqw2x                  U2     Red Hill Mining Town  0.974661",
      "text/html": "<div>\n<style scoped>\n    .dataframe tbody tr th:only-of-type {\n        vertical-align: middle;\n    }\n\n    .dataframe tbody tr th {\n        vertical-align: top;\n    }\n\n    .dataframe thead th {\n        text-align: right;\n    }\n</style>\n<table border=\"1\" class=\"dataframe\">\n  <thead>\n    <tr style=\"text-align: right;\">\n      <th></th>\n      <th>id</th>\n      <th>artist</th>\n      <th>song</th>\n      <th>sim</th>\n    </tr>\n  </thead>\n  <tbody>\n    <tr>\n      <th>4022</th>\n      <td>Ol8IEG2wq5RiPZet</td>\n      <td>Martine McCutcheon</td>\n      <td>Perfect Moment</td>\n      <td>0.977314</td>\n    </tr>\n    <tr>\n      <th>5380</th>\n      <td>X5ihEDR0EaR5ZzbP</td>\n      <td>Breakfast Club</td>\n      <td>Right On Track</td>\n      <td>0.976273</td>\n    </tr>\n    <tr>\n      <th>9854</th>\n      <td>yNzOlQZxlZ9wxtZW</td>\n      <td>Saliva</td>\n      <td>Unshatter Me</td>\n      <td>0.975649</td>\n    </tr>\n    <tr>\n      <th>4212</th>\n      <td>Pv3jF0mUelZBNJ1E</td>\n      <td>a-ha</td>\n      <td>Under The Makeup</td>\n      <td>0.975570</td>\n    </tr>\n    <tr>\n      <th>801</th>\n      <td>4lmk8cuLmcBpUEPk</td>\n      <td>Amaranthe</td>\n      <td>Dream</td>\n      <td>0.975025</td>\n    </tr>\n    <tr>\n      <th>6044</th>\n      <td>bU9zsndJzZ8fRZ92</td>\n      <td>Coldplay</td>\n      <td>Paradise</td>\n      <td>0.974957</td>\n    </tr>\n    <tr>\n      <th>6423</th>\n      <td>dmw7HloKDNqE9028</td>\n      <td>The Color Morale</td>\n      <td>Walls</td>\n      <td>0.974855</td>\n    </tr>\n    <tr>\n      <th>3958</th>\n      <td>OP7MHZ2uuSgbBIBI</td>\n      <td>Backstreet Boys</td>\n      <td>Safest Place to Hide</td>\n      <td>0.974813</td>\n    </tr>\n    <tr>\n      <th>1190</th>\n      <td>7D1H0DTrp6sztZeO</td>\n      <td>Avicii</td>\n      <td>Levels (Skrillex Remix)</td>\n      <td>0.974772</td>\n    </tr>\n    <tr>\n      <th>496</th>\n      <td>2r4vxtHw5W0Fqw2x</td>\n      <td>U2</td>\n      <td>Red Hill Mining Town</td>\n      <td>0.974661</td>\n    </tr>\n  </tbody>\n</table>\n</div>"
     },
     "execution_count": 7,
     "metadata": {},
     "output_type": "execute_result"
    }
   ],
   "source": [
    "# Audio-based(cos-sim, BLF logfluc)\n",
    "t2.song_retrieval(df_info, df_logfluc, \"As Long as You Love Me\",\"Justin Bieber\", 10)"
   ]
  },
  {
   "cell_type": "code",
   "execution_count": 8,
   "id": "55e4aa0b",
   "metadata": {
    "ExecuteTime": {
     "end_time": "2023-11-24T20:22:58.408605501Z",
     "start_time": "2023-11-24T20:22:58.402236874Z"
    }
   },
   "outputs": [],
   "source": [
    "# TODO: select retrieval systems combinations based on perfomance of metrics (grid search)"
   ]
  },
  {
   "cell_type": "code",
   "execution_count": 18,
   "id": "54cf840735b894a2",
   "metadata": {
    "collapsed": false,
    "ExecuteTime": {
     "end_time": "2023-11-25T13:55:35.285726490Z",
     "start_time": "2023-11-25T13:55:35.233651943Z"
    }
   },
   "outputs": [],
   "source": [
    "def calc_idcg_dataframe(df_genre) -> pd.DataFrame:\n",
    "    if os.path.exists('idcg.tsv'):\n",
    "        return pd.read_table('idcg.tsv')\n",
    "    else:\n",
    "        idcg_value_list = np.empty(len(df_genre))\n",
    "\n",
    "        for index, row in df_genre.iterrows():\n",
    "            genre = row[\"genre\"]\n",
    "            if index % 100 == 0:\n",
    "                print(index, end=\" \")\n",
    "\n",
    "            result_array = df_genre[\"genre\"].apply(lambda x: get_rel(x, genre)).values\n",
    "            sorted_array = np.sort(result_array)[-11:-1]  # First one would the track vs. the himself\n",
    "            idcg = dcg(sorted_array)\n",
    "            idcg_value_list[index] = idcg\n",
    "\n",
    "        idcgs = pd.DataFrame({\n",
    "            \"id\": df_genre[\"id\"].copy(),\n",
    "            \"idcg_value\": idcg_value_list\n",
    "        })\n",
    "        idcgs.to_csv('idcg.tsv', sep='\\t', encoding='utf-8')\n",
    "\n",
    "        return idcgs\n",
    "    \n",
    "def get_rel(i_genre, track_genre):  # todo: rename\n",
    "    t0_genres = set(track_genre)\n",
    "    t1_genres = set(i_genre)\n",
    "    return 2 * len(t0_genres.intersection(t1_genres)) / (len(t0_genres) + len(t1_genres))\n",
    "\n",
    "def dcg(sorted_rel: []):\n",
    "    dcg = sorted_rel[0]\n",
    "    for i in range(1, len(sorted_rel)):\n",
    "        dcg += sorted_rel[i] / math.log2(i + 1)\n",
    "    return dcg\n",
    "\n",
    "def calc_ndcg(row, rs_value, idcg_matrix):\n",
    "    song_id = row[\"id\"]\n",
    "    artist = row[\"artist\"]\n",
    "    song_title = row[\"song\"]\n",
    "\n",
    "    if song_id == \"XWfDJYP0AIVHgsrk\":\n",
    "        print(\"nearly half\")\n",
    "\n",
    "    if song_id != '03Oc9WeMEmyLLQbj': # todo: get rid of it\n",
    "        idcg_song = idcg_matrix[idcg_matrix['id'] == song_id]['idcg_value'].values[0]\n",
    "        genre = get_track_genres(song_id, df_genre)  # genres[genres['id'] == track_id]['genre'].values[0]\n",
    "        print(song_id, song_title, genre)\n",
    "        query_ids = t2.song_retrieval(df_info, rs_value, song_title, artist, 10)['id']\n",
    "        merged_df = pd.merge(query_ids, df_genre, on='id')\n",
    "        result_array = merged_df[\"genre\"].apply(lambda x: get_rel(x, genre)).values  # todo: rename\n",
    "\n",
    "        return dcg(result_array) / idcg_song\n",
    "    return 0\n",
    "\n",
    "\n",
    "def get_track_genres(track_id: str, genres: pd.DataFrame) -> [str]:\n",
    "    return genres[genres['id'] == track_id]['genre'].values[0]\n"
   ]
  },
  {
   "cell_type": "code",
   "execution_count": 19,
   "outputs": [
    {
     "data": {
      "text/plain": "       Unnamed: 0                id  idcg_value\n0               0  01Yfj2T3YTwJ1Yfy    4.628309\n1               1  01gyRHLquwXDlhkO    3.502996\n2               2  01rMxQv6vhyE1oQX    4.263802\n3               3  02RGE9FNH65RtMS7    2.232789\n4               4  02ZnlCGZEbkfCDxo    2.695010\n...           ...               ...         ...\n10089       10089  zyzILCQvVeUFIINi    3.552990\n10090       10090  zzgS4ZqyswamEWNj    3.540360\n10091       10091  zzoFYDMlqU1X2zz1    3.819606\n10092       10092  zzpkRCGA5ud8q4mv    2.945367\n10093       10093  zzx8CWdM7qkxKQpC    3.218616\n\n[10094 rows x 3 columns]",
      "text/html": "<div>\n<style scoped>\n    .dataframe tbody tr th:only-of-type {\n        vertical-align: middle;\n    }\n\n    .dataframe tbody tr th {\n        vertical-align: top;\n    }\n\n    .dataframe thead th {\n        text-align: right;\n    }\n</style>\n<table border=\"1\" class=\"dataframe\">\n  <thead>\n    <tr style=\"text-align: right;\">\n      <th></th>\n      <th>Unnamed: 0</th>\n      <th>id</th>\n      <th>idcg_value</th>\n    </tr>\n  </thead>\n  <tbody>\n    <tr>\n      <th>0</th>\n      <td>0</td>\n      <td>01Yfj2T3YTwJ1Yfy</td>\n      <td>4.628309</td>\n    </tr>\n    <tr>\n      <th>1</th>\n      <td>1</td>\n      <td>01gyRHLquwXDlhkO</td>\n      <td>3.502996</td>\n    </tr>\n    <tr>\n      <th>2</th>\n      <td>2</td>\n      <td>01rMxQv6vhyE1oQX</td>\n      <td>4.263802</td>\n    </tr>\n    <tr>\n      <th>3</th>\n      <td>3</td>\n      <td>02RGE9FNH65RtMS7</td>\n      <td>2.232789</td>\n    </tr>\n    <tr>\n      <th>4</th>\n      <td>4</td>\n      <td>02ZnlCGZEbkfCDxo</td>\n      <td>2.695010</td>\n    </tr>\n    <tr>\n      <th>...</th>\n      <td>...</td>\n      <td>...</td>\n      <td>...</td>\n    </tr>\n    <tr>\n      <th>10089</th>\n      <td>10089</td>\n      <td>zyzILCQvVeUFIINi</td>\n      <td>3.552990</td>\n    </tr>\n    <tr>\n      <th>10090</th>\n      <td>10090</td>\n      <td>zzgS4ZqyswamEWNj</td>\n      <td>3.540360</td>\n    </tr>\n    <tr>\n      <th>10091</th>\n      <td>10091</td>\n      <td>zzoFYDMlqU1X2zz1</td>\n      <td>3.819606</td>\n    </tr>\n    <tr>\n      <th>10092</th>\n      <td>10092</td>\n      <td>zzpkRCGA5ud8q4mv</td>\n      <td>2.945367</td>\n    </tr>\n    <tr>\n      <th>10093</th>\n      <td>10093</td>\n      <td>zzx8CWdM7qkxKQpC</td>\n      <td>3.218616</td>\n    </tr>\n  </tbody>\n</table>\n<p>10094 rows × 3 columns</p>\n</div>"
     },
     "execution_count": 19,
     "metadata": {},
     "output_type": "execute_result"
    }
   ],
   "source": [
    "idcg_matrix = calc_idcg_dataframe(df_genre) # todo: könnte es bei dt_info hinzufügen\n",
    "idcg_matrix"
   ],
   "metadata": {
    "collapsed": false,
    "ExecuteTime": {
     "end_time": "2023-11-25T13:55:37.969777173Z",
     "start_time": "2023-11-25T13:55:37.935080474Z"
    }
   },
   "id": "4ae1b1befe957c3d"
  },
  {
   "cell_type": "code",
   "execution_count": null,
   "outputs": [],
   "source": [
    "dcgs_word2vec = df_info.apply(calc_ndcg, axis=1, args=(df_word2vec, idcg_matrix,))\n",
    "print('df_word2vec')\n",
    "dcgs_word2vec\n",
    "print(\"Avg ndcg:\", np.mean(dcgs_word2vec))"
   ],
   "metadata": {
    "collapsed": false,
    "is_executing": true,
    "ExecuteTime": {
     "start_time": "2023-11-25T13:55:39.614340550Z"
    }
   },
   "id": "4dde50895c555a2"
  },
  {
   "cell_type": "code",
   "execution_count": null,
   "outputs": [],
   "source": [
    "dcgs_tfidf = df_info.apply(calc_ndcg, axis=1, args=(df_tfidf, idcg_matrix,))\n",
    "print('df_tfidf')\n",
    "dcgs_tfidf\n",
    "print(\"Avg ndcg:\", np.mean(dcgs_word2vec))"
   ],
   "metadata": {
    "collapsed": false
   },
   "id": "f7ed440179930282"
  },
  {
   "cell_type": "code",
   "execution_count": null,
   "outputs": [],
   "source": [
    "dcgs_bert = df_info.apply(calc_ndcg, axis=1, args=(df_bert, idcg_matrix,))\n",
    "print('df_bert')\n",
    "dcgs_bert\n",
    "print(\"Avg ndcg:\", np.mean(dcgs_bert))"
   ],
   "metadata": {
    "collapsed": false
   },
   "id": "7ce82f5dc8ee039c"
  },
  {
   "cell_type": "code",
   "execution_count": null,
   "outputs": [],
   "source": [
    "dcgs_mfcc_bow = df_info.apply(calc_ndcg, axis=1, args=(df_mfcc_bow, idcg_matrix,))\n",
    "print('df_mfcc_bow')\n",
    "dcgs_mfcc_bow\n",
    "print(\"Avg ndcg:\", np.mean(dcgs_mfcc_bow))"
   ],
   "metadata": {
    "collapsed": false
   },
   "id": "924393fbd26acd5c"
  },
  {
   "cell_type": "code",
   "execution_count": null,
   "outputs": [],
   "source": [
    "dcgs_musicnn = df_info.apply(calc_ndcg, axis=1, args=(df_musicnn, idcg_matrix,))\n",
    "print('df_musicnn')\n",
    "dcgs_musicnn\n",
    "print(\"Avg ndcg:\", np.mean(dcgs_musicnn))"
   ],
   "metadata": {
    "collapsed": false
   },
   "id": "83505283dbc00beb"
  },
  {
   "cell_type": "code",
   "execution_count": null,
   "outputs": [],
   "source": [
    "dcgs_ivec_256 = df_info.apply(calc_ndcg, axis=1, args=(df_ivec_256, idcg_matrix,))\n",
    "print('df_ivec_256')\n",
    "dcgs_ivec_256\n",
    "print(\"Avg ndcg:\", np.mean(dcgs_ivec_256))"
   ],
   "metadata": {
    "collapsed": false
   },
   "id": "9fc8c298133b8dfb"
  },
  {
   "cell_type": "code",
   "execution_count": null,
   "outputs": [],
   "source": [
    "# TODO: when all RS finished -> Please ignore\n",
    "df_dict = {\n",
    "    'df_word2vec': pd.read_table(file_path_word2vec),\n",
    "    'df_tfidf': pd.read_table(file_path_tfidf)\n",
    "}  # todo rest: df_bert, df_mfcc_bow, df_musicnn, df_ivec_256\n",
    "\n",
    "result = {}\n",
    "\n",
    "for key, value in df_dict.items():\n",
    "    print(f\"DataFrame {key}:\")\n",
    "    dcg_value_list = df_info.apply(calc_ndcg, axis=1, args=(value, idcg_matrix,))\n",
    "    result[key] = np.mean(dcg_value_list)"
   ],
   "metadata": {
    "collapsed": false
   },
   "id": "a1c0d925869fced5"
  }
 ],
 "metadata": {
  "kernelspec": {
   "display_name": "Python 3 (ipykernel)",
   "language": "python",
   "name": "python3"
  },
  "language_info": {
   "codemirror_mode": {
    "name": "ipython",
    "version": 3
   },
   "file_extension": ".py",
   "mimetype": "text/x-python",
   "name": "python",
   "nbconvert_exporter": "python",
   "pygments_lexer": "ipython3",
   "version": "3.10.12"
  }
 },
 "nbformat": 4,
 "nbformat_minor": 5
}
