{
 "cells": [
  {
   "cell_type": "code",
   "execution_count": 1,
   "id": "initial_id",
   "metadata": {
    "ExecuteTime": {
     "end_time": "2024-01-15T14:59:30.414773312Z",
     "start_time": "2024-01-15T14:59:28.272939180Z"
    }
   },
   "outputs": [
    {
     "name": "stdout",
     "output_type": "stream",
     "text": [
      "Defaulting to user installation because normal site-packages is not writeable\r\n",
      "Requirement already satisfied: pandas in /home/dani/.local/lib/python3.10/site-packages (2.1.2)\r\n",
      "Requirement already satisfied: tzdata>=2022.1 in /home/dani/.local/lib/python3.10/site-packages (from pandas) (2023.3)\r\n",
      "Requirement already satisfied: pytz>=2020.1 in /usr/lib/python3/dist-packages (from pandas) (2022.1)\r\n",
      "Requirement already satisfied: numpy<2,>=1.22.4 in /usr/local/lib/python3.10/dist-packages (from pandas) (1.26.1)\r\n",
      "Requirement already satisfied: python-dateutil>=2.8.2 in /home/dani/.local/lib/python3.10/site-packages (from pandas) (2.8.2)\r\n",
      "Requirement already satisfied: six>=1.5 in /usr/lib/python3/dist-packages (from python-dateutil>=2.8.2->pandas) (1.16.0)\r\n"
     ]
    }
   ],
   "source": [
    "!pip install pandas\n",
    "import pandas as pd\n",
    "import t3_utils as t3\n",
    "import numpy as np\n",
    "from ast import literal_eval\n",
    "from youtubesearchpython import VideosSearch"
   ]
  },
  {
   "cell_type": "code",
   "execution_count": 2,
   "id": "47027dc90c2119dd",
   "metadata": {
    "ExecuteTime": {
     "end_time": "2024-01-15T15:00:09.863039274Z",
     "start_time": "2024-01-15T14:59:31.584985178Z"
    }
   },
   "outputs": [],
   "source": [
    "# change the file path here\n",
    "file_path_base = r\"/home/dani/Dropbox/JKU/Semester-7/Multimedia_Search_and_Retrieval/Excercises/MMSR-Group-C/3/datasets/\"\n",
    "file_path_info = file_path_base + \"id_information_mmsr.tsv\" \n",
    "file_path_word2vec = file_path_base + \"id_lyrics_word2vec_mmsr.tsv\"\n",
    "file_path_tfidf = file_path_base + \"id_lyrics_tf-idf_mmsr.tsv\"\n",
    "file_path_bert = file_path_base + \"id_lyrics_bert_mmsr.tsv\"\n",
    "\n",
    "file_path_genre = file_path_base + \"id_genres_mmsr.tsv\"\n",
    "file_path_musicnn = file_path_base + \"id_musicnn_mmsr.tsv\"\n",
    "file_path_mfcc_bow = file_path_base + \"id_mfcc_bow_mmsr.tsv\"\n",
    "file_path_ivec_256 = file_path_base + \"id_ivec256_mmsr.tsv\"\n",
    "file_path_logfluc = file_path_base + \"id_blf_logfluc_mmsr.tsv\"\n",
    "\n",
    "file_path_incp = file_path_base  + \"id_incp_mmsr.tsv\"\n",
    "file_path_vgg19 = file_path_base + \"id_vgg19_mmsr.tsv\"\n",
    "file_path_resnet = file_path_base + \"id_resnet_mmsr.tsv\"\n",
    "file_path_url = file_path_base + \"id_url_mmsr.tsv\"\n",
    "\n",
    "df_info = pd.read_table(file_path_info)\n",
    "\n",
    "# text\n",
    "df_word2vec = pd.read_table(file_path_word2vec)\n",
    "df_tfidf = pd.read_table(file_path_tfidf)\n",
    "df_bert = pd.read_table(file_path_bert)\n",
    "\n",
    "# audio\n",
    "df_genre = pd.read_table(file_path_genre)\n",
    "df_musicnn = pd.read_table(file_path_musicnn)\n",
    "df_mfcc_bow = pd.read_table(file_path_mfcc_bow)\n",
    "df_ivec_256 = pd.read_table(file_path_ivec_256)\n",
    "df_logfluc = pd.read_table(file_path_logfluc)\n",
    "\n",
    "# video\n",
    "df_incp = pd.read_table(file_path_incp)\n",
    "df_vgg19 = pd.read_table(file_path_vgg19)\n",
    "df_resnet = pd.read_table(file_path_resnet)\n",
    "df_url = pd.read_table(file_path_url)\n",
    "\n",
    "df_genre[\"genre\"] = df_genre[\"genre\"].apply(literal_eval) # convert string into array"
   ]
  },
  {
   "cell_type": "code",
   "execution_count": 3,
   "id": "39d6c100",
   "metadata": {
    "ExecuteTime": {
     "end_time": "2024-01-15T13:48:01.460677609Z",
     "start_time": "2024-01-15T13:48:00.755752850Z"
    }
   },
   "outputs": [],
   "source": [
    "# normalizes and joins both features\n",
    "df_normalized_bert = t3.normalize_frame(df_bert)\n",
    "df_normalized_musicnn = t3.normalize_frame(df_mfcc_bow)\n",
    "df_early_fusion = pd.merge(df_normalized_bert, df_normalized_musicnn, on=\"id\", how=\"outer\")"
   ]
  },
  {
   "cell_type": "code",
   "execution_count": 12,
   "id": "ccf51cb0b70a4114",
   "metadata": {
    "ExecuteTime": {
     "end_time": "2024-01-15T15:12:25.504716432Z",
     "start_time": "2024-01-15T15:12:25.458592163Z"
    }
   },
   "outputs": [],
   "source": [
    "def get_youtube_info(row):\n",
    "    song_artist = row[\"artist\"]\n",
    "    song_title = row[\"song\"]\n",
    "\n",
    "    query = f\"{song_title} {song_artist}\"\n",
    "    videos_search = VideosSearch(query, limit=1)\n",
    "\n",
    "    results = videos_search.result()\n",
    "\n",
    "    if results['result']:\n",
    "        video_url = results['result'][0]['link']\n",
    "        video_id = results['result'][0]['id']\n",
    "        video_view_count = results['result'][0]['viewCount']['short']\n",
    "        \n",
    "        return [video_url, video_id, video_view_count]\n",
    "    else:\n",
    "        print(f\"No results found for {song_title} by {song_artist}\")\n",
    "        return ''\n",
    "    \n",
    "\n",
    "def calc_songs(row, df_info: pd.DataFrame, df_feature: pd.DataFrame, sim_func, filter: [], random: bool):\n",
    "    song_artist = row[\"artist\"]\n",
    "    song_title = row[\"song\"]\n",
    "    \n",
    "    filter = [] if filter is None else filter\n",
    "\n",
    "    df_retr_songs = t3.song_retrieval(df_info, df_feature, song_title, song_artist, 10, sim_func=sim_func, filter=filter, random = random)\n",
    "   \n",
    "    return df_retr_songs\n",
    "\n",
    "\n",
    "def calc_late_fusion_songs(row, df_info: pd.DataFrame, df_feature_1: pd.DataFrame, df_feature_2: pd.DataFrame, filter: []):\n",
    "    song_artist = row[\"artist\"]\n",
    "    song_title = row[\"song\"]\n",
    "    \n",
    "    filter = [] if filter is None else filter\n",
    "\n",
    "    df_retr_songs = t3.late_fusion_retrieval(df_info, df_feature_1, df_feature_2, song_title, song_artist, 10)\n",
    "    \n",
    "    return df_retr_songs if filter == [] else df_retr_songs[filter]\n"
   ]
  },
  {
   "cell_type": "code",
   "execution_count": 4,
   "id": "23e02b94d9ca3c12",
   "metadata": {
    "ExecuteTime": {
     "end_time": "2024-01-15T15:00:55.997940011Z",
     "start_time": "2024-01-15T15:00:55.832228357Z"
    }
   },
   "outputs": [
    {
     "data": {
      "text/plain": "                     id                       artist  \\\n0      01Yfj2T3YTwJ1Yfy                  We As Human   \n1      01gyRHLquwXDlhkO         The Notorious B.I.G.   \n2      01rMxQv6vhyE1oQX          Against the Current   \n3      02RGE9FNH65RtMS7                     Barthezz   \n4      02ZnlCGZEbkfCDxo                Laura Pausini   \n...                 ...                          ...   \n10090  zyzILCQvVeUFIINi                Crowded House   \n10091  zzgS4ZqyswamEWNj               Britney Spears   \n10092  zzoFYDMlqU1X2zz1                   Thundercat   \n10093  zzpkRCGA5ud8q4mv                 Otis Redding   \n10094  zzx8CWdM7qkxKQpC  Ted Leo and the Pharmacists   \n\n                                            song  \\\n0      Take The Bullets Away (feat. Lacey Sturm)   \n1                           Somebody's Gotta Die   \n2                                 Chasing Ghosts   \n3                                       Infected   \n4                               Tra Te E Il Mare   \n...                                          ...   \n10090                              When You Come   \n10091                   My Only Wish (This Year)   \n10092                                        DUI   \n10093                               Rock Me Baby   \n10094                    Counting Down the Hours   \n\n                                        album_name  \\\n0                                      We As Human   \n1            Life After Death (Remastered Edition)   \n2                                     In Our Bones   \n3             Trance - The Early Years (1997-2002)   \n4      The Best of Laura Pausini - E Ritorno Da Te   \n...                                            ...   \n10090                            Temple Of Low Men   \n10091                           Platinum Christmas   \n10092                                        Drunk   \n10093                                    Otis Blue   \n10094                             Shake the Sheets   \n\n                                            yt_url        yt_id yt_view_count  \n0      https://www.youtube.com/watch?v=v2T40qPAO-0  v2T40qPAO-0    1.6M views  \n1      https://www.youtube.com/watch?v=22YBfS3hLrg  22YBfS3hLrg    1.6M views  \n2      https://www.youtube.com/watch?v=f7dx1GgO7CI  f7dx1GgO7CI    1.8M views  \n3      https://www.youtube.com/watch?v=mNUFRFlwDPw  mNUFRFlwDPw    1.7M views  \n4      https://www.youtube.com/watch?v=gl17x1L_8Kc  gl17x1L_8Kc     20M views  \n...                                            ...          ...           ...  \n10090  https://www.youtube.com/watch?v=LUP3XOa3yRs  LUP3XOa3yRs    643K views  \n10091  https://www.youtube.com/watch?v=_MzumcY3lpk  _MzumcY3lpk     11M views  \n10092  https://www.youtube.com/watch?v=O0kS88zAzh8  O0kS88zAzh8    109K views  \n10093  https://www.youtube.com/watch?v=rKpI3o-1CSM  rKpI3o-1CSM    1.3M views  \n10094  https://www.youtube.com/watch?v=AzlVwe5sIPc  AzlVwe5sIPc     36K views  \n\n[10095 rows x 7 columns]",
      "text/html": "<div>\n<style scoped>\n    .dataframe tbody tr th:only-of-type {\n        vertical-align: middle;\n    }\n\n    .dataframe tbody tr th {\n        vertical-align: top;\n    }\n\n    .dataframe thead th {\n        text-align: right;\n    }\n</style>\n<table border=\"1\" class=\"dataframe\">\n  <thead>\n    <tr style=\"text-align: right;\">\n      <th></th>\n      <th>id</th>\n      <th>artist</th>\n      <th>song</th>\n      <th>album_name</th>\n      <th>yt_url</th>\n      <th>yt_id</th>\n      <th>yt_view_count</th>\n    </tr>\n  </thead>\n  <tbody>\n    <tr>\n      <th>0</th>\n      <td>01Yfj2T3YTwJ1Yfy</td>\n      <td>We As Human</td>\n      <td>Take The Bullets Away (feat. Lacey Sturm)</td>\n      <td>We As Human</td>\n      <td>https://www.youtube.com/watch?v=v2T40qPAO-0</td>\n      <td>v2T40qPAO-0</td>\n      <td>1.6M views</td>\n    </tr>\n    <tr>\n      <th>1</th>\n      <td>01gyRHLquwXDlhkO</td>\n      <td>The Notorious B.I.G.</td>\n      <td>Somebody's Gotta Die</td>\n      <td>Life After Death (Remastered Edition)</td>\n      <td>https://www.youtube.com/watch?v=22YBfS3hLrg</td>\n      <td>22YBfS3hLrg</td>\n      <td>1.6M views</td>\n    </tr>\n    <tr>\n      <th>2</th>\n      <td>01rMxQv6vhyE1oQX</td>\n      <td>Against the Current</td>\n      <td>Chasing Ghosts</td>\n      <td>In Our Bones</td>\n      <td>https://www.youtube.com/watch?v=f7dx1GgO7CI</td>\n      <td>f7dx1GgO7CI</td>\n      <td>1.8M views</td>\n    </tr>\n    <tr>\n      <th>3</th>\n      <td>02RGE9FNH65RtMS7</td>\n      <td>Barthezz</td>\n      <td>Infected</td>\n      <td>Trance - The Early Years (1997-2002)</td>\n      <td>https://www.youtube.com/watch?v=mNUFRFlwDPw</td>\n      <td>mNUFRFlwDPw</td>\n      <td>1.7M views</td>\n    </tr>\n    <tr>\n      <th>4</th>\n      <td>02ZnlCGZEbkfCDxo</td>\n      <td>Laura Pausini</td>\n      <td>Tra Te E Il Mare</td>\n      <td>The Best of Laura Pausini - E Ritorno Da Te</td>\n      <td>https://www.youtube.com/watch?v=gl17x1L_8Kc</td>\n      <td>gl17x1L_8Kc</td>\n      <td>20M views</td>\n    </tr>\n    <tr>\n      <th>...</th>\n      <td>...</td>\n      <td>...</td>\n      <td>...</td>\n      <td>...</td>\n      <td>...</td>\n      <td>...</td>\n      <td>...</td>\n    </tr>\n    <tr>\n      <th>10090</th>\n      <td>zyzILCQvVeUFIINi</td>\n      <td>Crowded House</td>\n      <td>When You Come</td>\n      <td>Temple Of Low Men</td>\n      <td>https://www.youtube.com/watch?v=LUP3XOa3yRs</td>\n      <td>LUP3XOa3yRs</td>\n      <td>643K views</td>\n    </tr>\n    <tr>\n      <th>10091</th>\n      <td>zzgS4ZqyswamEWNj</td>\n      <td>Britney Spears</td>\n      <td>My Only Wish (This Year)</td>\n      <td>Platinum Christmas</td>\n      <td>https://www.youtube.com/watch?v=_MzumcY3lpk</td>\n      <td>_MzumcY3lpk</td>\n      <td>11M views</td>\n    </tr>\n    <tr>\n      <th>10092</th>\n      <td>zzoFYDMlqU1X2zz1</td>\n      <td>Thundercat</td>\n      <td>DUI</td>\n      <td>Drunk</td>\n      <td>https://www.youtube.com/watch?v=O0kS88zAzh8</td>\n      <td>O0kS88zAzh8</td>\n      <td>109K views</td>\n    </tr>\n    <tr>\n      <th>10093</th>\n      <td>zzpkRCGA5ud8q4mv</td>\n      <td>Otis Redding</td>\n      <td>Rock Me Baby</td>\n      <td>Otis Blue</td>\n      <td>https://www.youtube.com/watch?v=rKpI3o-1CSM</td>\n      <td>rKpI3o-1CSM</td>\n      <td>1.3M views</td>\n    </tr>\n    <tr>\n      <th>10094</th>\n      <td>zzx8CWdM7qkxKQpC</td>\n      <td>Ted Leo and the Pharmacists</td>\n      <td>Counting Down the Hours</td>\n      <td>Shake the Sheets</td>\n      <td>https://www.youtube.com/watch?v=AzlVwe5sIPc</td>\n      <td>AzlVwe5sIPc</td>\n      <td>36K views</td>\n    </tr>\n  </tbody>\n</table>\n<p>10095 rows × 7 columns</p>\n</div>"
     },
     "execution_count": 4,
     "metadata": {},
     "output_type": "execute_result"
    }
   ],
   "source": [
    "import os # Import df_info with youtube links\n",
    "\n",
    "file_path = \"df_yt_info.json\"\n",
    "if os.path.exists(file_path):\n",
    "    df_info = pd.read_json(file_path)\n",
    "else:\n",
    "    res = df_info.apply(get_youtube_info, axis=1)\n",
    "\n",
    "    yt_urls = [item[0] for item in res]\n",
    "    yt_ids = [item[1] for item in res]\n",
    "    yt_view_counts = [item[2] for item in res]\n",
    "    df_info = df_info.assign(yt_url=yt_urls)\n",
    "    df_info = df_info.assign(yt_id=yt_ids)\n",
    "    df_info = df_info.assign(yt_view_count=yt_view_counts)\n",
    "    \n",
    "    df_info.to_json(orient='records', indent=2, path_or_buf=f'{file_path}')\n",
    "df_info"
   ]
  },
  {
   "cell_type": "code",
   "execution_count": 5,
   "id": "3c448de683c68abc",
   "metadata": {
    "ExecuteTime": {
     "end_time": "2024-01-15T15:01:03.087632277Z",
     "start_time": "2024-01-15T15:01:03.010153907Z"
    }
   },
   "outputs": [
    {
     "data": {
      "text/plain": "                     id                       artist  \\\n0      01Yfj2T3YTwJ1Yfy                  We As Human   \n1      01gyRHLquwXDlhkO         The Notorious B.I.G.   \n2      01rMxQv6vhyE1oQX          Against the Current   \n3      02RGE9FNH65RtMS7                     Barthezz   \n4      02ZnlCGZEbkfCDxo                Laura Pausini   \n...                 ...                          ...   \n10089  zyzILCQvVeUFIINi                Crowded House   \n10090  zzgS4ZqyswamEWNj               Britney Spears   \n10091  zzoFYDMlqU1X2zz1                   Thundercat   \n10092  zzpkRCGA5ud8q4mv                 Otis Redding   \n10093  zzx8CWdM7qkxKQpC  Ted Leo and the Pharmacists   \n\n                                            song  \\\n0      Take The Bullets Away (feat. Lacey Sturm)   \n1                           Somebody's Gotta Die   \n2                                 Chasing Ghosts   \n3                                       Infected   \n4                               Tra Te E Il Mare   \n...                                          ...   \n10089                              When You Come   \n10090                   My Only Wish (This Year)   \n10091                                        DUI   \n10092                               Rock Me Baby   \n10093                    Counting Down the Hours   \n\n                                        album_name  \\\n0                                      We As Human   \n1            Life After Death (Remastered Edition)   \n2                                     In Our Bones   \n3             Trance - The Early Years (1997-2002)   \n4      The Best of Laura Pausini - E Ritorno Da Te   \n...                                            ...   \n10089                            Temple Of Low Men   \n10090                           Platinum Christmas   \n10091                                        Drunk   \n10092                                    Otis Blue   \n10093                             Shake the Sheets   \n\n                                            yt_url        yt_id yt_view_count  \\\n0      https://www.youtube.com/watch?v=v2T40qPAO-0  v2T40qPAO-0    1.6M views   \n1      https://www.youtube.com/watch?v=22YBfS3hLrg  22YBfS3hLrg    1.6M views   \n2      https://www.youtube.com/watch?v=f7dx1GgO7CI  f7dx1GgO7CI    1.8M views   \n3      https://www.youtube.com/watch?v=mNUFRFlwDPw  mNUFRFlwDPw    1.7M views   \n4      https://www.youtube.com/watch?v=gl17x1L_8Kc  gl17x1L_8Kc     20M views   \n...                                            ...          ...           ...   \n10089  https://www.youtube.com/watch?v=LUP3XOa3yRs  LUP3XOa3yRs    643K views   \n10090  https://www.youtube.com/watch?v=_MzumcY3lpk  _MzumcY3lpk     11M views   \n10091  https://www.youtube.com/watch?v=O0kS88zAzh8  O0kS88zAzh8    109K views   \n10092  https://www.youtube.com/watch?v=rKpI3o-1CSM  rKpI3o-1CSM    1.3M views   \n10093  https://www.youtube.com/watch?v=AzlVwe5sIPc  AzlVwe5sIPc     36K views   \n\n                                                   genre  \n0                                 [rock, christian rock]  \n1                 [hip hop, rap, grindcore, death metal]  \n2                                       [rock, pop punk]  \n3                   [trance, techno, progressive trance]  \n4      [pop, italian pop, latin, europop, ambient, po...  \n...                                                  ...  \n10089  [rock, pop, indie rock, folk rock, new wave, m...  \n10090  [pop, rock, teen pop, soundtrack, singer songw...  \n10091                                [jazz, jazz fusion]  \n10092  [soul, blues, r b, blues rock, southern soul, ...  \n10093  [indie rock, rock, alternative rock, indie pop...  \n\n[10094 rows x 8 columns]",
      "text/html": "<div>\n<style scoped>\n    .dataframe tbody tr th:only-of-type {\n        vertical-align: middle;\n    }\n\n    .dataframe tbody tr th {\n        vertical-align: top;\n    }\n\n    .dataframe thead th {\n        text-align: right;\n    }\n</style>\n<table border=\"1\" class=\"dataframe\">\n  <thead>\n    <tr style=\"text-align: right;\">\n      <th></th>\n      <th>id</th>\n      <th>artist</th>\n      <th>song</th>\n      <th>album_name</th>\n      <th>yt_url</th>\n      <th>yt_id</th>\n      <th>yt_view_count</th>\n      <th>genre</th>\n    </tr>\n  </thead>\n  <tbody>\n    <tr>\n      <th>0</th>\n      <td>01Yfj2T3YTwJ1Yfy</td>\n      <td>We As Human</td>\n      <td>Take The Bullets Away (feat. Lacey Sturm)</td>\n      <td>We As Human</td>\n      <td>https://www.youtube.com/watch?v=v2T40qPAO-0</td>\n      <td>v2T40qPAO-0</td>\n      <td>1.6M views</td>\n      <td>[rock, christian rock]</td>\n    </tr>\n    <tr>\n      <th>1</th>\n      <td>01gyRHLquwXDlhkO</td>\n      <td>The Notorious B.I.G.</td>\n      <td>Somebody's Gotta Die</td>\n      <td>Life After Death (Remastered Edition)</td>\n      <td>https://www.youtube.com/watch?v=22YBfS3hLrg</td>\n      <td>22YBfS3hLrg</td>\n      <td>1.6M views</td>\n      <td>[hip hop, rap, grindcore, death metal]</td>\n    </tr>\n    <tr>\n      <th>2</th>\n      <td>01rMxQv6vhyE1oQX</td>\n      <td>Against the Current</td>\n      <td>Chasing Ghosts</td>\n      <td>In Our Bones</td>\n      <td>https://www.youtube.com/watch?v=f7dx1GgO7CI</td>\n      <td>f7dx1GgO7CI</td>\n      <td>1.8M views</td>\n      <td>[rock, pop punk]</td>\n    </tr>\n    <tr>\n      <th>3</th>\n      <td>02RGE9FNH65RtMS7</td>\n      <td>Barthezz</td>\n      <td>Infected</td>\n      <td>Trance - The Early Years (1997-2002)</td>\n      <td>https://www.youtube.com/watch?v=mNUFRFlwDPw</td>\n      <td>mNUFRFlwDPw</td>\n      <td>1.7M views</td>\n      <td>[trance, techno, progressive trance]</td>\n    </tr>\n    <tr>\n      <th>4</th>\n      <td>02ZnlCGZEbkfCDxo</td>\n      <td>Laura Pausini</td>\n      <td>Tra Te E Il Mare</td>\n      <td>The Best of Laura Pausini - E Ritorno Da Te</td>\n      <td>https://www.youtube.com/watch?v=gl17x1L_8Kc</td>\n      <td>gl17x1L_8Kc</td>\n      <td>20M views</td>\n      <td>[pop, italian pop, latin, europop, ambient, po...</td>\n    </tr>\n    <tr>\n      <th>...</th>\n      <td>...</td>\n      <td>...</td>\n      <td>...</td>\n      <td>...</td>\n      <td>...</td>\n      <td>...</td>\n      <td>...</td>\n      <td>...</td>\n    </tr>\n    <tr>\n      <th>10089</th>\n      <td>zyzILCQvVeUFIINi</td>\n      <td>Crowded House</td>\n      <td>When You Come</td>\n      <td>Temple Of Low Men</td>\n      <td>https://www.youtube.com/watch?v=LUP3XOa3yRs</td>\n      <td>LUP3XOa3yRs</td>\n      <td>643K views</td>\n      <td>[rock, pop, indie rock, folk rock, new wave, m...</td>\n    </tr>\n    <tr>\n      <th>10090</th>\n      <td>zzgS4ZqyswamEWNj</td>\n      <td>Britney Spears</td>\n      <td>My Only Wish (This Year)</td>\n      <td>Platinum Christmas</td>\n      <td>https://www.youtube.com/watch?v=_MzumcY3lpk</td>\n      <td>_MzumcY3lpk</td>\n      <td>11M views</td>\n      <td>[pop, rock, teen pop, soundtrack, singer songw...</td>\n    </tr>\n    <tr>\n      <th>10091</th>\n      <td>zzoFYDMlqU1X2zz1</td>\n      <td>Thundercat</td>\n      <td>DUI</td>\n      <td>Drunk</td>\n      <td>https://www.youtube.com/watch?v=O0kS88zAzh8</td>\n      <td>O0kS88zAzh8</td>\n      <td>109K views</td>\n      <td>[jazz, jazz fusion]</td>\n    </tr>\n    <tr>\n      <th>10092</th>\n      <td>zzpkRCGA5ud8q4mv</td>\n      <td>Otis Redding</td>\n      <td>Rock Me Baby</td>\n      <td>Otis Blue</td>\n      <td>https://www.youtube.com/watch?v=rKpI3o-1CSM</td>\n      <td>rKpI3o-1CSM</td>\n      <td>1.3M views</td>\n      <td>[soul, blues, r b, blues rock, southern soul, ...</td>\n    </tr>\n    <tr>\n      <th>10093</th>\n      <td>zzx8CWdM7qkxKQpC</td>\n      <td>Ted Leo and the Pharmacists</td>\n      <td>Counting Down the Hours</td>\n      <td>Shake the Sheets</td>\n      <td>https://www.youtube.com/watch?v=AzlVwe5sIPc</td>\n      <td>AzlVwe5sIPc</td>\n      <td>36K views</td>\n      <td>[indie rock, rock, alternative rock, indie pop...</td>\n    </tr>\n  </tbody>\n</table>\n<p>10094 rows × 8 columns</p>\n</div>"
     },
     "execution_count": 5,
     "metadata": {},
     "output_type": "execute_result"
    }
   ],
   "source": [
    "# insert genres for each song\n",
    "df_info = pd.merge(df_info, df_genre, on = \"id\")\n",
    "df_info"
   ]
  },
  {
   "cell_type": "code",
   "execution_count": 6,
   "id": "9cb57a130859cdf7",
   "metadata": {
    "ExecuteTime": {
     "end_time": "2024-01-15T15:01:06.342262083Z",
     "start_time": "2024-01-15T15:01:06.317181950Z"
    }
   },
   "outputs": [],
   "source": [
    "rs_info = [    \n",
    "                (\"random\", df_info, t3.cos_sim), (\"word2vec euc-sim\", df_word2vec, t3.euc_sim),\n",
    "                (\"tfidf cos-sim\", df_tfidf, t3.cos_sim), (\"bert cos-sim\", df_bert, t3.cos_sim),\n",
    "                (\"mfcc_bow cos-sim\", df_mfcc_bow, t3.cos_sim), (\"musicnn cos-sim\", df_musicnn, t3.cos_sim),\n",
    "                (\"ivec_256 cos-sim\", df_ivec_256, t3.cos_sim), (\"logfluc cos-sim\", df_logfluc, t3.cos_sim),\n",
    "                (\"resnet cos-sim\", df_resnet, t3.cos_sim) , (\"early fusion cos-sim\", df_early_fusion, t3.cos_sim),\n",
    "                (\"late fusion cos-sim\", [df_bert, df_musicnn], t3.cos_sim)\n",
    "           ]"
   ]
  },
  {
   "cell_type": "code",
   "execution_count": 15,
   "id": "8a768703f42e3165",
   "metadata": {
    "ExecuteTime": {
     "end_time": "2024-01-15T15:15:22.261637846Z",
     "start_time": "2024-01-15T15:15:16.765119746Z"
    }
   },
   "outputs": [
    {
     "name": "stdout",
     "output_type": "stream",
     "text": [
      "Finished random\n",
      "Finished word2vec euc-sim\n",
      "Finished tfidf cos-sim\n",
      "Finished bert cos-sim\n",
      "Finished mfcc_bow cos-sim\n",
      "Finished musicnn cos-sim\n",
      "Finished ivec_256 cos-sim\n",
      "Finished logfluc cos-sim\n",
      "Finished resnet cos-sim\n"
     ]
    },
    {
     "data": {
      "text/plain": "                 id                artist  \\\n0  01Yfj2T3YTwJ1Yfy           We As Human   \n1  01gyRHLquwXDlhkO  The Notorious B.I.G.   \n\n                                        song  \\\n0  Take The Bullets Away (feat. Lacey Sturm)   \n1                       Somebody's Gotta Die   \n\n                              album_name  \\\n0                            We As Human   \n1  Life After Death (Remastered Edition)   \n\n                                        yt_url        yt_id yt_view_count  \\\n0  https://www.youtube.com/watch?v=v2T40qPAO-0  v2T40qPAO-0    1.6M views   \n1  https://www.youtube.com/watch?v=22YBfS3hLrg  22YBfS3hLrg    1.6M views   \n\n                                    genre  \\\n0                  [rock, christian rock]   \n1  [hip hop, rap, grindcore, death metal]   \n\n                                              random  \\\n0                       id\n10056  zmukOoB01ASq2Y6...   \n1                      id\n9057  tbjOkdGL9PvwADZK\n...   \n\n                                    word2vec euc-sim  \\\n0                      id\n538   38mNvmgJUzLn7Pf7\n...   \n1                      id\n2823  H9krdY6rFJl4VYVR\n...   \n\n                                       tfidf cos-sim  \\\n0                      id\n2496  F4whfybQ8r8xQtb0\n...   \n1                      id\n9573  wiw2rM2xb4CJ5sVP\n...   \n\n                                        bert cos-sim  \\\n0                      id\n7754  llBi1Fz8svaJKewh\n...   \n1                      id\n4031  OokmnsloeW1Sh3NF\n...   \n\n                                    mfcc_bow cos-sim  \\\n0                      id\n9950  z0UqEOsRBaWGWnqi\n...   \n1                      id\n4894  TynRPxT2eYqsE1vD\n...   \n\n                                     musicnn cos-sim  \\\n0                      id\n671   3wWBRgGCFZydyQhO\n...   \n1                      id\n6835  gE39Ms4AoMKpJNGi\n...   \n\n                                    ivec_256 cos-sim  \\\n0                      id\n934   5YSYXq6DEMzRslCN\n...   \n1                      id\n4894  TynRPxT2eYqsE1vD\n...   \n\n                                     logfluc cos-sim  \\\n0                      id\n6005  bBquA6LRnsrO0Orj\n...   \n1                      id\n1494  8uMvt3XmfDU1oMz2\n...   \n\n                                      resnet cos-sim  \\\n0                      id\n2560  FYbi5F6qvTpd7mZm\n...   \n1                      id\n4540  RmkwkCwdu5013Awo\n...   \n\n                                 late fusion cos-sim  \n0                    id\n6   NcJM6LYjo623WZNd\n3   ...  \n1                    id\n3   M65mU1UIozrDxcvu\n5   ...  ",
      "text/html": "<div>\n<style scoped>\n    .dataframe tbody tr th:only-of-type {\n        vertical-align: middle;\n    }\n\n    .dataframe tbody tr th {\n        vertical-align: top;\n    }\n\n    .dataframe thead th {\n        text-align: right;\n    }\n</style>\n<table border=\"1\" class=\"dataframe\">\n  <thead>\n    <tr style=\"text-align: right;\">\n      <th></th>\n      <th>id</th>\n      <th>artist</th>\n      <th>song</th>\n      <th>album_name</th>\n      <th>yt_url</th>\n      <th>yt_id</th>\n      <th>yt_view_count</th>\n      <th>genre</th>\n      <th>random</th>\n      <th>word2vec euc-sim</th>\n      <th>tfidf cos-sim</th>\n      <th>bert cos-sim</th>\n      <th>mfcc_bow cos-sim</th>\n      <th>musicnn cos-sim</th>\n      <th>ivec_256 cos-sim</th>\n      <th>logfluc cos-sim</th>\n      <th>resnet cos-sim</th>\n      <th>late fusion cos-sim</th>\n    </tr>\n  </thead>\n  <tbody>\n    <tr>\n      <th>0</th>\n      <td>01Yfj2T3YTwJ1Yfy</td>\n      <td>We As Human</td>\n      <td>Take The Bullets Away (feat. Lacey Sturm)</td>\n      <td>We As Human</td>\n      <td>https://www.youtube.com/watch?v=v2T40qPAO-0</td>\n      <td>v2T40qPAO-0</td>\n      <td>1.6M views</td>\n      <td>[rock, christian rock]</td>\n      <td>id\n10056  zmukOoB01ASq2Y6...</td>\n      <td>id\n538   38mNvmgJUzLn7Pf7\n...</td>\n      <td>id\n2496  F4whfybQ8r8xQtb0\n...</td>\n      <td>id\n7754  llBi1Fz8svaJKewh\n...</td>\n      <td>id\n9950  z0UqEOsRBaWGWnqi\n...</td>\n      <td>id\n671   3wWBRgGCFZydyQhO\n...</td>\n      <td>id\n934   5YSYXq6DEMzRslCN\n...</td>\n      <td>id\n6005  bBquA6LRnsrO0Orj\n...</td>\n      <td>id\n2560  FYbi5F6qvTpd7mZm\n...</td>\n      <td>id\n6   NcJM6LYjo623WZNd\n3   ...</td>\n    </tr>\n    <tr>\n      <th>1</th>\n      <td>01gyRHLquwXDlhkO</td>\n      <td>The Notorious B.I.G.</td>\n      <td>Somebody's Gotta Die</td>\n      <td>Life After Death (Remastered Edition)</td>\n      <td>https://www.youtube.com/watch?v=22YBfS3hLrg</td>\n      <td>22YBfS3hLrg</td>\n      <td>1.6M views</td>\n      <td>[hip hop, rap, grindcore, death metal]</td>\n      <td>id\n9057  tbjOkdGL9PvwADZK\n...</td>\n      <td>id\n2823  H9krdY6rFJl4VYVR\n...</td>\n      <td>id\n9573  wiw2rM2xb4CJ5sVP\n...</td>\n      <td>id\n4031  OokmnsloeW1Sh3NF\n...</td>\n      <td>id\n4894  TynRPxT2eYqsE1vD\n...</td>\n      <td>id\n6835  gE39Ms4AoMKpJNGi\n...</td>\n      <td>id\n4894  TynRPxT2eYqsE1vD\n...</td>\n      <td>id\n1494  8uMvt3XmfDU1oMz2\n...</td>\n      <td>id\n4540  RmkwkCwdu5013Awo\n...</td>\n      <td>id\n3   M65mU1UIozrDxcvu\n5   ...</td>\n    </tr>\n  </tbody>\n</table>\n</div>"
     },
     "execution_count": 15,
     "metadata": {},
     "output_type": "execute_result"
    }
   ],
   "source": [
    "df_data = df_info.copy()\n",
    "\n",
    "# if an error occurs: please delete the song \"03Oc9WeMEmyLLQbj\" in information.csv\n",
    "for index, feature_set, sim_func in rs_info:\n",
    "    random = index == \"random\"\n",
    "    if index == \"late fusion cos-sim\":\n",
    "        df_data[f'{index}'] = df_data.apply(calc_late_fusion_songs, axis=1, args=(df_info, df_bert, df_musicnn, [\"id\"]))\n",
    "    else:\n",
    "        df_data[f'{index}'] = df_data.apply(calc_songs, axis=1, args=(df_info, feature_set, sim_func, [\"id\"], random))\n",
    "    print(f\"Finished {index}\")\n",
    "    \n",
    "\n",
    "df_data.to_json(orient='records', indent=2, path_or_buf=f'data-test.json')\n",
    "df_data"
   ]
  },
  {
   "cell_type": "code",
   "execution_count": null,
   "outputs": [],
   "source": [],
   "metadata": {
    "collapsed": false
   },
   "id": "33f60014e9c1d0"
  }
 ],
 "metadata": {
  "kernelspec": {
   "display_name": "Python 3",
   "language": "python",
   "name": "python3"
  },
  "language_info": {
   "codemirror_mode": {
    "name": "ipython",
    "version": 3
   },
   "file_extension": ".py",
   "mimetype": "text/x-python",
   "name": "python",
   "nbconvert_exporter": "python",
   "pygments_lexer": "ipython3",
   "version": "3.8.9"
  }
 },
 "nbformat": 4,
 "nbformat_minor": 5
}
