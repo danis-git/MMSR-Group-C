{
 "cells": [
  {
   "cell_type": "code",
   "execution_count": 9,
   "id": "initial_id",
   "metadata": {
    "collapsed": true,
    "ExecuteTime": {
     "end_time": "2024-01-12T10:59:02.229355105Z",
     "start_time": "2024-01-12T10:59:00.455232596Z"
    }
   },
   "outputs": [
    {
     "name": "stdout",
     "output_type": "stream",
     "text": [
      "Defaulting to user installation because normal site-packages is not writeable\r\n",
      "Requirement already satisfied: pandas in /home/dani/.local/lib/python3.10/site-packages (2.1.2)\r\n",
      "Requirement already satisfied: pytz>=2020.1 in /usr/lib/python3/dist-packages (from pandas) (2022.1)\r\n",
      "Requirement already satisfied: tzdata>=2022.1 in /home/dani/.local/lib/python3.10/site-packages (from pandas) (2023.3)\r\n",
      "Requirement already satisfied: python-dateutil>=2.8.2 in /home/dani/.local/lib/python3.10/site-packages (from pandas) (2.8.2)\r\n",
      "Requirement already satisfied: numpy<2,>=1.22.4 in /usr/local/lib/python3.10/dist-packages (from pandas) (1.26.1)\r\n",
      "Requirement already satisfied: six>=1.5 in /usr/lib/python3/dist-packages (from python-dateutil>=2.8.2->pandas) (1.16.0)\r\n"
     ]
    }
   ],
   "source": [
    "!pip install pandas\n",
    "import pandas as pd\n",
    "import t3_utils as t3\n",
    "from ast import literal_eval"
   ]
  },
  {
   "cell_type": "code",
   "execution_count": 10,
   "outputs": [],
   "source": [
    "# change the file path here\n",
    "file_path_base = r\"/home/dani/Dropbox/JKU/Semester-7/Multimedia_Search_and_Retrieval/Excercises/MMSR-Group-C/3/datasets/\"\n",
    "file_path_info = file_path_base + \"id_information_mmsr.tsv\" \n",
    "file_path_word2vec = file_path_base + \"id_lyrics_word2vec_mmsr.tsv\"\n",
    "file_path_tfidf = file_path_base + \"id_lyrics_tf-idf_mmsr.tsv\"\n",
    "file_path_bert = file_path_base + \"id_lyrics_bert_mmsr.tsv\"\n",
    "\n",
    "file_path_genre = file_path_base + \"id_genres_mmsr.tsv\"\n",
    "file_path_musicnn = file_path_base + \"id_musicnn_mmsr.tsv\"\n",
    "file_path_mfcc_bow = file_path_base + \"id_mfcc_bow_mmsr.tsv\"\n",
    "file_path_ivec_256 = file_path_base + \"id_ivec256_mmsr.tsv\"\n",
    "file_path_logfluc = file_path_base + \"id_blf_logfluc_mmsr.tsv\"\n",
    "\n",
    "file_path_incp = file_path_base  + \"id_incp_mmsr.tsv\"\n",
    "file_path_vgg19 = file_path_base + \"id_vgg19_mmsr.tsv\"\n",
    "file_path_resnet = file_path_base + \"id_resnet_mmsr.tsv\"\n",
    "file_path_url = file_path_base + \"id_url_mmsr.tsv\"\n",
    "\n",
    "df_info = pd.read_table(file_path_info)\n",
    "\n",
    "# text\n",
    "df_word2vec = pd.read_table(file_path_word2vec)\n",
    "df_tfidf = pd.read_table(file_path_tfidf)\n",
    "df_bert = pd.read_table(file_path_bert)\n",
    "\n",
    "# audio\n",
    "df_genre = pd.read_table(file_path_genre)\n",
    "df_musicnn = pd.read_table(file_path_musicnn)\n",
    "df_mfcc_bow = pd.read_table(file_path_mfcc_bow)\n",
    "df_ivec_256 = pd.read_table(file_path_ivec_256)\n",
    "df_logfluc = pd.read_table(file_path_logfluc)\n",
    "\n",
    "# video\n",
    "df_incp = pd.read_table(file_path_incp)\n",
    "df_vgg19 = pd.read_table(file_path_vgg19)\n",
    "df_resnet = pd.read_table(file_path_resnet)\n",
    "df_url = pd.read_table(file_path_url)\n",
    "\n",
    "df_genre[\"genre\"] = df_genre[\"genre\"].apply(literal_eval) # convert string into array\n",
    "\n",
    "# todo: prepare early fusion feature\n",
    "# normalizes and joins both features\n",
    "#df_normalized_bert = t3.normalize_frame(df_bert)\n",
    "#df_normalized_mfcc_bow = t3.normalize_frame(df_mfcc_bow)\n",
    "#df_early_fusion = pd.merge(df_normalized_bert, df_normalized_mfcc_bow, on=\"id\", how=\"outer\")"
   ],
   "metadata": {
    "collapsed": false,
    "ExecuteTime": {
     "end_time": "2024-01-12T10:59:40.948122907Z",
     "start_time": "2024-01-12T10:59:02.794950232Z"
    }
   },
   "id": "47027dc90c2119dd"
  },
  {
   "cell_type": "code",
   "execution_count": 11,
   "outputs": [],
   "source": [
    "from youtubesearchpython import VideosSearch\n",
    "\n",
    "def get_youtube_url(row):\n",
    "    song_artist = row[\"artist\"]\n",
    "    song_title = row[\"song\"]\n",
    "\n",
    "    query = f\"{song_title} {song_artist}\"\n",
    "    videos_search = VideosSearch(query, limit=1)\n",
    "\n",
    "    results = videos_search.result()\n",
    "\n",
    "    if results['result']:\n",
    "        video_url = results['result'][0]['link']\n",
    "        print(row[\"id\"])\n",
    "        return video_url\n",
    "    else:\n",
    "        print(f\"No results found for {song_title} by {song_artist}\")\n",
    "        return ''\n",
    "    \n",
    "\n",
    "def calc_songs(row, df_info: pd.DataFrame, df_feature: pd.DataFrame, sim_func, filter: []):\n",
    "    id = row[\"id\"]\n",
    "    song_artist = row[\"artist\"]\n",
    "    song_title = row[\"song\"]\n",
    "    \n",
    "    filter = [] if filter is None else filter\n",
    "\n",
    "    df_retr_songs = t3.song_retrieval(df_info, df_feature, song_title, song_artist, 10, sim_func=sim_func, filter=filter)\n",
    "   \n",
    "    return df_retr_songs\n"
   ],
   "metadata": {
    "collapsed": false,
    "ExecuteTime": {
     "end_time": "2024-01-12T11:00:18.161817081Z",
     "start_time": "2024-01-12T11:00:18.093366389Z"
    }
   },
   "id": "ccf51cb0b70a4114"
  },
  {
   "cell_type": "code",
   "execution_count": 12,
   "outputs": [],
   "source": [
    "import os # Import df_info with youtube links\n",
    "\n",
    "file_path = \"df_info_and_links.json\"\n",
    "if os.path.exists(file_path):\n",
    "    df_info = pd.read_json(file_path)\n",
    "else:\n",
    "    df_info[\"youtube_link\"] = df_info.apply(get_youtube_url, axis=1)\n",
    "    df_info.to_json(orient='records', indent=2, path_or_buf=f'{file_path}')"
   ],
   "metadata": {
    "collapsed": false,
    "ExecuteTime": {
     "end_time": "2024-01-12T11:00:19.932837821Z",
     "start_time": "2024-01-12T11:00:19.864421146Z"
    }
   },
   "id": "23e02b94d9ca3c12"
  },
  {
   "cell_type": "code",
   "execution_count": 13,
   "outputs": [
    {
     "data": {
      "text/plain": "                     id                       artist  \\\n0      01Yfj2T3YTwJ1Yfy                  We As Human   \n1      01gyRHLquwXDlhkO         The Notorious B.I.G.   \n2      01rMxQv6vhyE1oQX          Against the Current   \n3      02RGE9FNH65RtMS7                     Barthezz   \n4      02ZnlCGZEbkfCDxo                Laura Pausini   \n...                 ...                          ...   \n10089  zyzILCQvVeUFIINi                Crowded House   \n10090  zzgS4ZqyswamEWNj               Britney Spears   \n10091  zzoFYDMlqU1X2zz1                   Thundercat   \n10092  zzpkRCGA5ud8q4mv                 Otis Redding   \n10093  zzx8CWdM7qkxKQpC  Ted Leo and the Pharmacists   \n\n                                            song  \\\n0      Take The Bullets Away (feat. Lacey Sturm)   \n1                           Somebody's Gotta Die   \n2                                 Chasing Ghosts   \n3                                       Infected   \n4                               Tra Te E Il Mare   \n...                                          ...   \n10089                              When You Come   \n10090                   My Only Wish (This Year)   \n10091                                        DUI   \n10092                               Rock Me Baby   \n10093                    Counting Down the Hours   \n\n                                        album_name  \\\n0                                      We As Human   \n1            Life After Death (Remastered Edition)   \n2                                     In Our Bones   \n3             Trance - The Early Years (1997-2002)   \n4      The Best of Laura Pausini - E Ritorno Da Te   \n...                                            ...   \n10089                            Temple Of Low Men   \n10090                           Platinum Christmas   \n10091                                        Drunk   \n10092                                    Otis Blue   \n10093                             Shake the Sheets   \n\n                                      youtube_link  \\\n0      https://www.youtube.com/watch?v=v2T40qPAO-0   \n1      https://www.youtube.com/watch?v=22YBfS3hLrg   \n2      https://www.youtube.com/watch?v=f7dx1GgO7CI   \n3      https://www.youtube.com/watch?v=mNUFRFlwDPw   \n4      https://www.youtube.com/watch?v=gl17x1L_8Kc   \n...                                            ...   \n10089  https://www.youtube.com/watch?v=LUP3XOa3yRs   \n10090  https://www.youtube.com/watch?v=_MzumcY3lpk   \n10091  https://www.youtube.com/watch?v=O0kS88zAzh8   \n10092  https://www.youtube.com/watch?v=rKpI3o-1CSM   \n10093  https://www.youtube.com/watch?v=AzlVwe5sIPc   \n\n                                                   genre  \n0                                 [rock, christian rock]  \n1                 [hip hop, rap, grindcore, death metal]  \n2                                       [rock, pop punk]  \n3                   [trance, techno, progressive trance]  \n4      [pop, italian pop, latin, europop, ambient, po...  \n...                                                  ...  \n10089  [rock, pop, indie rock, folk rock, new wave, m...  \n10090  [pop, rock, teen pop, soundtrack, singer songw...  \n10091                                [jazz, jazz fusion]  \n10092  [soul, blues, r b, blues rock, southern soul, ...  \n10093  [indie rock, rock, alternative rock, indie pop...  \n\n[10094 rows x 6 columns]",
      "text/html": "<div>\n<style scoped>\n    .dataframe tbody tr th:only-of-type {\n        vertical-align: middle;\n    }\n\n    .dataframe tbody tr th {\n        vertical-align: top;\n    }\n\n    .dataframe thead th {\n        text-align: right;\n    }\n</style>\n<table border=\"1\" class=\"dataframe\">\n  <thead>\n    <tr style=\"text-align: right;\">\n      <th></th>\n      <th>id</th>\n      <th>artist</th>\n      <th>song</th>\n      <th>album_name</th>\n      <th>youtube_link</th>\n      <th>genre</th>\n    </tr>\n  </thead>\n  <tbody>\n    <tr>\n      <th>0</th>\n      <td>01Yfj2T3YTwJ1Yfy</td>\n      <td>We As Human</td>\n      <td>Take The Bullets Away (feat. Lacey Sturm)</td>\n      <td>We As Human</td>\n      <td>https://www.youtube.com/watch?v=v2T40qPAO-0</td>\n      <td>[rock, christian rock]</td>\n    </tr>\n    <tr>\n      <th>1</th>\n      <td>01gyRHLquwXDlhkO</td>\n      <td>The Notorious B.I.G.</td>\n      <td>Somebody's Gotta Die</td>\n      <td>Life After Death (Remastered Edition)</td>\n      <td>https://www.youtube.com/watch?v=22YBfS3hLrg</td>\n      <td>[hip hop, rap, grindcore, death metal]</td>\n    </tr>\n    <tr>\n      <th>2</th>\n      <td>01rMxQv6vhyE1oQX</td>\n      <td>Against the Current</td>\n      <td>Chasing Ghosts</td>\n      <td>In Our Bones</td>\n      <td>https://www.youtube.com/watch?v=f7dx1GgO7CI</td>\n      <td>[rock, pop punk]</td>\n    </tr>\n    <tr>\n      <th>3</th>\n      <td>02RGE9FNH65RtMS7</td>\n      <td>Barthezz</td>\n      <td>Infected</td>\n      <td>Trance - The Early Years (1997-2002)</td>\n      <td>https://www.youtube.com/watch?v=mNUFRFlwDPw</td>\n      <td>[trance, techno, progressive trance]</td>\n    </tr>\n    <tr>\n      <th>4</th>\n      <td>02ZnlCGZEbkfCDxo</td>\n      <td>Laura Pausini</td>\n      <td>Tra Te E Il Mare</td>\n      <td>The Best of Laura Pausini - E Ritorno Da Te</td>\n      <td>https://www.youtube.com/watch?v=gl17x1L_8Kc</td>\n      <td>[pop, italian pop, latin, europop, ambient, po...</td>\n    </tr>\n    <tr>\n      <th>...</th>\n      <td>...</td>\n      <td>...</td>\n      <td>...</td>\n      <td>...</td>\n      <td>...</td>\n      <td>...</td>\n    </tr>\n    <tr>\n      <th>10089</th>\n      <td>zyzILCQvVeUFIINi</td>\n      <td>Crowded House</td>\n      <td>When You Come</td>\n      <td>Temple Of Low Men</td>\n      <td>https://www.youtube.com/watch?v=LUP3XOa3yRs</td>\n      <td>[rock, pop, indie rock, folk rock, new wave, m...</td>\n    </tr>\n    <tr>\n      <th>10090</th>\n      <td>zzgS4ZqyswamEWNj</td>\n      <td>Britney Spears</td>\n      <td>My Only Wish (This Year)</td>\n      <td>Platinum Christmas</td>\n      <td>https://www.youtube.com/watch?v=_MzumcY3lpk</td>\n      <td>[pop, rock, teen pop, soundtrack, singer songw...</td>\n    </tr>\n    <tr>\n      <th>10091</th>\n      <td>zzoFYDMlqU1X2zz1</td>\n      <td>Thundercat</td>\n      <td>DUI</td>\n      <td>Drunk</td>\n      <td>https://www.youtube.com/watch?v=O0kS88zAzh8</td>\n      <td>[jazz, jazz fusion]</td>\n    </tr>\n    <tr>\n      <th>10092</th>\n      <td>zzpkRCGA5ud8q4mv</td>\n      <td>Otis Redding</td>\n      <td>Rock Me Baby</td>\n      <td>Otis Blue</td>\n      <td>https://www.youtube.com/watch?v=rKpI3o-1CSM</td>\n      <td>[soul, blues, r b, blues rock, southern soul, ...</td>\n    </tr>\n    <tr>\n      <th>10093</th>\n      <td>zzx8CWdM7qkxKQpC</td>\n      <td>Ted Leo and the Pharmacists</td>\n      <td>Counting Down the Hours</td>\n      <td>Shake the Sheets</td>\n      <td>https://www.youtube.com/watch?v=AzlVwe5sIPc</td>\n      <td>[indie rock, rock, alternative rock, indie pop...</td>\n    </tr>\n  </tbody>\n</table>\n<p>10094 rows × 6 columns</p>\n</div>"
     },
     "execution_count": 13,
     "metadata": {},
     "output_type": "execute_result"
    }
   ],
   "source": [
    "# insert genres for each song\n",
    "df_info = pd.merge(df_info, df_genre, on = \"id\")\n",
    "df_info"
   ],
   "metadata": {
    "collapsed": false,
    "ExecuteTime": {
     "end_time": "2024-01-12T11:00:21.922726655Z",
     "start_time": "2024-01-12T11:00:21.858972836Z"
    }
   },
   "id": "3c448de683c68abc"
  },
  {
   "cell_type": "code",
   "execution_count": 14,
   "outputs": [],
   "source": [
    "rs_info = [(\"word2vec euc-sim\", df_word2vec, t3.euc_sim),\n",
    "                (\"tfidf cos-sim\", df_tfidf, t3.cos_sim), (\"bert cos-sim\", df_bert, t3.cos_sim),\n",
    "                (\"mfcc_bow cos-sim\", df_mfcc_bow, t3.cos_sim), (\"musicnn cos-sim\", df_musicnn, t3.cos_sim),\n",
    "                (\"ivec_256 cos-sim\", df_ivec_256, t3.cos_sim), (\"logfluc cos-sim\", df_logfluc, t3.cos_sim),\n",
    "               (\"resnet cos-sim\", df_resnet, t3.cos_sim)\n",
    "           #, (\"early fusion cos-sim\", df_early_fusion, t3.cos_sim)\n",
    "           # todo: consider early fusion and stuff?\n",
    "           ]"
   ],
   "metadata": {
    "collapsed": false,
    "ExecuteTime": {
     "end_time": "2024-01-12T11:00:26.977284780Z",
     "start_time": "2024-01-12T11:00:26.967400805Z"
    }
   },
   "id": "9cb57a130859cdf7"
  },
  {
   "cell_type": "code",
   "execution_count": 15,
   "outputs": [
    {
     "name": "stdout",
     "output_type": "stream",
     "text": [
      "01Yfj2T3YTwJ1Yfy \n",
      "01gyRHLquwXDlhkO \n",
      "01rMxQv6vhyE1oQX \n",
      "02RGE9FNH65RtMS7 \n",
      "02ZnlCGZEbkfCDxo \n",
      "04OjszRi9rC5BlHC \n",
      "04iitW3ffa0mhpx3 \n",
      "04xUDjAYC14jsHyH \n",
      "06HvNTU9M9lnH71I \n",
      "06L9OJ5nRqKnO2q9 \n",
      "\n",
      "Finished word2vec euc-sim -------------------\n",
      "01Yfj2T3YTwJ1Yfy \n",
      "01gyRHLquwXDlhkO \n",
      "01rMxQv6vhyE1oQX \n",
      "02RGE9FNH65RtMS7 \n",
      "02ZnlCGZEbkfCDxo \n",
      "04OjszRi9rC5BlHC \n",
      "04iitW3ffa0mhpx3 \n",
      "04xUDjAYC14jsHyH \n",
      "06HvNTU9M9lnH71I \n",
      "06L9OJ5nRqKnO2q9 \n",
      "\n",
      "Finished tfidf cos-sim -------------------\n",
      "01Yfj2T3YTwJ1Yfy \n",
      "01gyRHLquwXDlhkO \n",
      "01rMxQv6vhyE1oQX \n",
      "02RGE9FNH65RtMS7 \n",
      "02ZnlCGZEbkfCDxo \n",
      "04OjszRi9rC5BlHC \n",
      "04iitW3ffa0mhpx3 \n",
      "04xUDjAYC14jsHyH \n",
      "06HvNTU9M9lnH71I \n",
      "06L9OJ5nRqKnO2q9 \n",
      "\n",
      "Finished bert cos-sim -------------------\n",
      "01Yfj2T3YTwJ1Yfy \n",
      "01gyRHLquwXDlhkO \n",
      "01rMxQv6vhyE1oQX \n",
      "02RGE9FNH65RtMS7 \n",
      "02ZnlCGZEbkfCDxo \n",
      "04OjszRi9rC5BlHC \n",
      "04iitW3ffa0mhpx3 \n",
      "04xUDjAYC14jsHyH \n",
      "06HvNTU9M9lnH71I \n",
      "06L9OJ5nRqKnO2q9 \n",
      "\n",
      "Finished mfcc_bow cos-sim -------------------\n",
      "01Yfj2T3YTwJ1Yfy \n",
      "01gyRHLquwXDlhkO \n",
      "01rMxQv6vhyE1oQX \n",
      "02RGE9FNH65RtMS7 \n",
      "02ZnlCGZEbkfCDxo \n",
      "04OjszRi9rC5BlHC \n",
      "04iitW3ffa0mhpx3 \n",
      "04xUDjAYC14jsHyH \n",
      "06HvNTU9M9lnH71I \n",
      "06L9OJ5nRqKnO2q9 \n",
      "\n",
      "Finished musicnn cos-sim -------------------\n",
      "01Yfj2T3YTwJ1Yfy \n",
      "01gyRHLquwXDlhkO \n",
      "01rMxQv6vhyE1oQX \n",
      "02RGE9FNH65RtMS7 \n",
      "02ZnlCGZEbkfCDxo \n",
      "04OjszRi9rC5BlHC \n",
      "04iitW3ffa0mhpx3 \n",
      "04xUDjAYC14jsHyH \n",
      "06HvNTU9M9lnH71I \n",
      "06L9OJ5nRqKnO2q9 \n",
      "\n",
      "Finished ivec_256 cos-sim -------------------\n",
      "01Yfj2T3YTwJ1Yfy \n"
     ]
    },
    {
     "name": "stderr",
     "output_type": "stream",
     "text": [
      "/home/dani/Dropbox/JKU/Semester-7/Multimedia_Search_and_Retrieval/Excercises/MMSR-Group-C/3/t3_utils.py:9: RuntimeWarning: invalid value encountered in scalar divide\n",
      "  return np.dot(query,target)/(norm(query)*norm(target))\n"
     ]
    },
    {
     "name": "stdout",
     "output_type": "stream",
     "text": [
      "01gyRHLquwXDlhkO \n",
      "01rMxQv6vhyE1oQX \n",
      "02RGE9FNH65RtMS7 \n",
      "02ZnlCGZEbkfCDxo \n",
      "04OjszRi9rC5BlHC \n",
      "04iitW3ffa0mhpx3 \n",
      "04xUDjAYC14jsHyH \n",
      "06HvNTU9M9lnH71I \n",
      "06L9OJ5nRqKnO2q9 \n",
      "\n",
      "Finished logfluc cos-sim -------------------\n",
      "01Yfj2T3YTwJ1Yfy \n",
      "01gyRHLquwXDlhkO \n",
      "01rMxQv6vhyE1oQX \n",
      "02RGE9FNH65RtMS7 \n",
      "02ZnlCGZEbkfCDxo \n",
      "04OjszRi9rC5BlHC \n",
      "04iitW3ffa0mhpx3 \n",
      "04xUDjAYC14jsHyH \n",
      "06HvNTU9M9lnH71I \n",
      "06L9OJ5nRqKnO2q9 \n",
      "\n",
      "Finished resnet cos-sim -------------------\n"
     ]
    },
    {
     "data": {
      "text/plain": "                 id                artist  \\\n0  01Yfj2T3YTwJ1Yfy           We As Human   \n1  01gyRHLquwXDlhkO  The Notorious B.I.G.   \n2  01rMxQv6vhyE1oQX   Against the Current   \n3  02RGE9FNH65RtMS7              Barthezz   \n4  02ZnlCGZEbkfCDxo         Laura Pausini   \n5  04OjszRi9rC5BlHC          Grizzly Bear   \n6  04iitW3ffa0mhpx3                 Ne-Yo   \n7  04xUDjAYC14jsHyH            Jawbreaker   \n8  06HvNTU9M9lnH71I         Michael Bublé   \n9  06L9OJ5nRqKnO2q9                  Rhye   \n\n                                        song  \\\n0  Take The Bullets Away (feat. Lacey Sturm)   \n1                       Somebody's Gotta Die   \n2                             Chasing Ghosts   \n3                                   Infected   \n4                           Tra Te E Il Mare   \n5                                      Knife   \n6                           Miss Independent   \n7                              Jinx Removing   \n8                                 That's All   \n9                                     Please   \n\n                                    album_name  \\\n0                                  We As Human   \n1        Life After Death (Remastered Edition)   \n2                                 In Our Bones   \n3         Trance - The Early Years (1997-2002)   \n4  The Best of Laura Pausini - E Ritorno Da Te   \n5                                 Yellow House   \n6  Year Of The Gentleman (Bonus Track Edition)   \n7         24 Hour Revenge Therapy (Remastered)   \n8                   Michael Bublé (US Version)   \n9                                Blood Remixed   \n\n                                  youtube_link  \\\n0  https://www.youtube.com/watch?v=v2T40qPAO-0   \n1  https://www.youtube.com/watch?v=22YBfS3hLrg   \n2  https://www.youtube.com/watch?v=f7dx1GgO7CI   \n3  https://www.youtube.com/watch?v=mNUFRFlwDPw   \n4  https://www.youtube.com/watch?v=gl17x1L_8Kc   \n5  https://www.youtube.com/watch?v=PVdGjSSarIQ   \n6  https://www.youtube.com/watch?v=k6M5C-oKw9k   \n7  https://www.youtube.com/watch?v=MLeekX2znNU   \n8  https://www.youtube.com/watch?v=yGw_uBcU4rU   \n9  https://www.youtube.com/watch?v=ejcWz1ZRC9I   \n\n                                               genre  \\\n0                             [rock, christian rock]   \n1             [hip hop, rap, grindcore, death metal]   \n2                                   [rock, pop punk]   \n3               [trance, techno, progressive trance]   \n4  [pop, italian pop, latin, europop, ambient, po...   \n5  [experimental, folk, lo fi, freak folk, indie ...   \n6  [pop, r b, hip hop, soul, rhythm and blues, si...   \n7  [punk, emo, post hardcore, post punk, melodic ...   \n8  [jazz, easy listening, swing, smooth jazz, voc...   \n9                        [smooth soul, sophisti pop]   \n\n                          res_songs_word2vec euc-sim  \\\n0                   id\n7  04xUDjAYC14jsHyH\n2  01r...   \n1                   id\n2  01rMxQv6vhyE1oQX\n7  04x...   \n2                   id\n7  04xUDjAYC14jsHyH\n8  06H...   \n3                   id\n7  04xUDjAYC14jsHyH\n0  01Y...   \n4                   id\n7  04xUDjAYC14jsHyH\n8  06H...   \n5                   id\n6  04iitW3ffa0mhpx3\n1  01g...   \n6                   id\n1  01gyRHLquwXDlhkO\n7  04x...   \n7                   id\n1  01gyRHLquwXDlhkO\n8  06H...   \n8                   id\n2  01rMxQv6vhyE1oQX\n4  02Z...   \n9                   id\n1  01gyRHLquwXDlhkO\n7  04x...   \n\n                             res_songs_tfidf cos-sim  \\\n0                   id\n1  01gyRHLquwXDlhkO\n4  02Z...   \n1                   id\n0  01Yfj2T3YTwJ1Yfy\n6  04i...   \n2                   id\n9  06L9OJ5nRqKnO2q9\n6  04i...   \n3                   id\n9  06L9OJ5nRqKnO2q9\n8  06H...   \n4                   id\n3  02RGE9FNH65RtMS7\n7  04x...   \n5                   id\n9  06L9OJ5nRqKnO2q9\n2  01r...   \n6                   id\n1  01gyRHLquwXDlhkO\n3  02R...   \n7                   id\n4  02ZnlCGZEbkfCDxo\n8  06H...   \n8                   id\n7  04xUDjAYC14jsHyH\n3  02R...   \n9                   id\n3  02RGE9FNH65RtMS7\n8  06H...   \n\n                              res_songs_bert cos-sim  \\\n0                   id\n5  04OjszRi9rC5BlHC\n1  01g...   \n1                   id\n5  04OjszRi9rC5BlHC\n0  01Y...   \n2                   id\n5  04OjszRi9rC5BlHC\n7  04x...   \n3                   id\n7  04xUDjAYC14jsHyH\n9  06L...   \n4                   id\n7  04xUDjAYC14jsHyH\n9  06L...   \n5                   id\n9  06L9OJ5nRqKnO2q9\n7  04x...   \n6                   id\n9  06L9OJ5nRqKnO2q9\n5  04O...   \n7                   id\n9  06L9OJ5nRqKnO2q9\n4  02Z...   \n8                   id\n7  04xUDjAYC14jsHyH\n4  02Z...   \n9                   id\n5  04OjszRi9rC5BlHC\n7  04x...   \n\n                          res_songs_mfcc_bow cos-sim  \\\n0                   id\n3  02RGE9FNH65RtMS7\n1  01g...   \n1                   id\n4  02ZnlCGZEbkfCDxo\n6  04i...   \n2                   id\n4  02ZnlCGZEbkfCDxo\n5  04O...   \n3                   id\n0  01Yfj2T3YTwJ1Yfy\n1  01g...   \n4                   id\n2  01rMxQv6vhyE1oQX\n1  01g...   \n5                   id\n1  01gyRHLquwXDlhkO\n8  06H...   \n6                   id\n1  01gyRHLquwXDlhkO\n5  04O...   \n7                   id\n0  01Yfj2T3YTwJ1Yfy\n3  02R...   \n8                   id\n9  06L9OJ5nRqKnO2q9\n5  04O...   \n9                   id\n8  06HvNTU9M9lnH71I\n6  04i...   \n\n                           res_songs_musicnn cos-sim  \\\n0                   id\n7  04xUDjAYC14jsHyH\n2  01r...   \n1                   id\n2  01rMxQv6vhyE1oQX\n4  02Z...   \n2                   id\n4  02ZnlCGZEbkfCDxo\n6  04i...   \n3                   id\n1  01gyRHLquwXDlhkO\n4  02Z...   \n4                   id\n6  04iitW3ffa0mhpx3\n2  01r...   \n5                   id\n4  02ZnlCGZEbkfCDxo\n9  06L...   \n6                   id\n4  02ZnlCGZEbkfCDxo\n2  01r...   \n7                   id\n0  01Yfj2T3YTwJ1Yfy\n2  01r...   \n8                   id\n2  01rMxQv6vhyE1oQX\n5  04O...   \n9                   id\n5  04OjszRi9rC5BlHC\n8  06H...   \n\n                          res_songs_ivec_256 cos-sim  \\\n0                   id\n7  04xUDjAYC14jsHyH\n5  04O...   \n1                   id\n8  06HvNTU9M9lnH71I\n0  01Y...   \n2                   id\n7  04xUDjAYC14jsHyH\n4  02Z...   \n3                   id\n4  02ZnlCGZEbkfCDxo\n5  04O...   \n4                   id\n8  06HvNTU9M9lnH71I\n5  04O...   \n5                   id\n6  04iitW3ffa0mhpx3\n9  06L...   \n6                   id\n5  04OjszRi9rC5BlHC\n9  06L...   \n7                   id\n0  01Yfj2T3YTwJ1Yfy\n9  06L...   \n8                   id\n9  06L9OJ5nRqKnO2q9\n1  01g...   \n9                   id\n8  06HvNTU9M9lnH71I\n6  04i...   \n\n                           res_songs_logfluc cos-sim  \\\n0                   id\n5  04OjszRi9rC5BlHC\n1  01g...   \n1                   id\n0  01Yfj2T3YTwJ1Yfy\n8  06H...   \n2                   id\n8  06HvNTU9M9lnH71I\n6  04i...   \n3                   id\n0  01Yfj2T3YTwJ1Yfy\n5  04O...   \n4                   id\n8  06HvNTU9M9lnH71I\n7  04x...   \n5                   id\n0  01Yfj2T3YTwJ1Yfy\n8  06H...   \n6                   id\n8  06HvNTU9M9lnH71I\n1  01g...   \n7                   id\n0  01Yfj2T3YTwJ1Yfy\n4  02Z...   \n8                   id\n1  01gyRHLquwXDlhkO\n0  01Y...   \n9                   id\n6  04iitW3ffa0mhpx3\n8  06H...   \n\n                            res_songs_resnet cos-sim  \n0                   id\n3  02RGE9FNH65RtMS7\n9  06L...  \n1                   id\n9  06L9OJ5nRqKnO2q9\n2  01r...  \n2                   id\n1  01gyRHLquwXDlhkO\n0  01Y...  \n3                   id\n6  04iitW3ffa0mhpx3\n4  02Z...  \n4                   id\n3  02RGE9FNH65RtMS7\n6  04i...  \n5                   id\n6  04iitW3ffa0mhpx3\n9  06L...  \n6                   id\n3  02RGE9FNH65RtMS7\n9  06L...  \n7                   id\n9  06L9OJ5nRqKnO2q9\n1  01g...  \n8                   id\n6  04iitW3ffa0mhpx3\n9  06L...  \n9                   id\n6  04iitW3ffa0mhpx3\n3  02R...  ",
      "text/html": "<div>\n<style scoped>\n    .dataframe tbody tr th:only-of-type {\n        vertical-align: middle;\n    }\n\n    .dataframe tbody tr th {\n        vertical-align: top;\n    }\n\n    .dataframe thead th {\n        text-align: right;\n    }\n</style>\n<table border=\"1\" class=\"dataframe\">\n  <thead>\n    <tr style=\"text-align: right;\">\n      <th></th>\n      <th>id</th>\n      <th>artist</th>\n      <th>song</th>\n      <th>album_name</th>\n      <th>youtube_link</th>\n      <th>genre</th>\n      <th>res_songs_word2vec euc-sim</th>\n      <th>res_songs_tfidf cos-sim</th>\n      <th>res_songs_bert cos-sim</th>\n      <th>res_songs_mfcc_bow cos-sim</th>\n      <th>res_songs_musicnn cos-sim</th>\n      <th>res_songs_ivec_256 cos-sim</th>\n      <th>res_songs_logfluc cos-sim</th>\n      <th>res_songs_resnet cos-sim</th>\n    </tr>\n  </thead>\n  <tbody>\n    <tr>\n      <th>0</th>\n      <td>01Yfj2T3YTwJ1Yfy</td>\n      <td>We As Human</td>\n      <td>Take The Bullets Away (feat. Lacey Sturm)</td>\n      <td>We As Human</td>\n      <td>https://www.youtube.com/watch?v=v2T40qPAO-0</td>\n      <td>[rock, christian rock]</td>\n      <td>id\n7  04xUDjAYC14jsHyH\n2  01r...</td>\n      <td>id\n1  01gyRHLquwXDlhkO\n4  02Z...</td>\n      <td>id\n5  04OjszRi9rC5BlHC\n1  01g...</td>\n      <td>id\n3  02RGE9FNH65RtMS7\n1  01g...</td>\n      <td>id\n7  04xUDjAYC14jsHyH\n2  01r...</td>\n      <td>id\n7  04xUDjAYC14jsHyH\n5  04O...</td>\n      <td>id\n5  04OjszRi9rC5BlHC\n1  01g...</td>\n      <td>id\n3  02RGE9FNH65RtMS7\n9  06L...</td>\n    </tr>\n    <tr>\n      <th>1</th>\n      <td>01gyRHLquwXDlhkO</td>\n      <td>The Notorious B.I.G.</td>\n      <td>Somebody's Gotta Die</td>\n      <td>Life After Death (Remastered Edition)</td>\n      <td>https://www.youtube.com/watch?v=22YBfS3hLrg</td>\n      <td>[hip hop, rap, grindcore, death metal]</td>\n      <td>id\n2  01rMxQv6vhyE1oQX\n7  04x...</td>\n      <td>id\n0  01Yfj2T3YTwJ1Yfy\n6  04i...</td>\n      <td>id\n5  04OjszRi9rC5BlHC\n0  01Y...</td>\n      <td>id\n4  02ZnlCGZEbkfCDxo\n6  04i...</td>\n      <td>id\n2  01rMxQv6vhyE1oQX\n4  02Z...</td>\n      <td>id\n8  06HvNTU9M9lnH71I\n0  01Y...</td>\n      <td>id\n0  01Yfj2T3YTwJ1Yfy\n8  06H...</td>\n      <td>id\n9  06L9OJ5nRqKnO2q9\n2  01r...</td>\n    </tr>\n    <tr>\n      <th>2</th>\n      <td>01rMxQv6vhyE1oQX</td>\n      <td>Against the Current</td>\n      <td>Chasing Ghosts</td>\n      <td>In Our Bones</td>\n      <td>https://www.youtube.com/watch?v=f7dx1GgO7CI</td>\n      <td>[rock, pop punk]</td>\n      <td>id\n7  04xUDjAYC14jsHyH\n8  06H...</td>\n      <td>id\n9  06L9OJ5nRqKnO2q9\n6  04i...</td>\n      <td>id\n5  04OjszRi9rC5BlHC\n7  04x...</td>\n      <td>id\n4  02ZnlCGZEbkfCDxo\n5  04O...</td>\n      <td>id\n4  02ZnlCGZEbkfCDxo\n6  04i...</td>\n      <td>id\n7  04xUDjAYC14jsHyH\n4  02Z...</td>\n      <td>id\n8  06HvNTU9M9lnH71I\n6  04i...</td>\n      <td>id\n1  01gyRHLquwXDlhkO\n0  01Y...</td>\n    </tr>\n    <tr>\n      <th>3</th>\n      <td>02RGE9FNH65RtMS7</td>\n      <td>Barthezz</td>\n      <td>Infected</td>\n      <td>Trance - The Early Years (1997-2002)</td>\n      <td>https://www.youtube.com/watch?v=mNUFRFlwDPw</td>\n      <td>[trance, techno, progressive trance]</td>\n      <td>id\n7  04xUDjAYC14jsHyH\n0  01Y...</td>\n      <td>id\n9  06L9OJ5nRqKnO2q9\n8  06H...</td>\n      <td>id\n7  04xUDjAYC14jsHyH\n9  06L...</td>\n      <td>id\n0  01Yfj2T3YTwJ1Yfy\n1  01g...</td>\n      <td>id\n1  01gyRHLquwXDlhkO\n4  02Z...</td>\n      <td>id\n4  02ZnlCGZEbkfCDxo\n5  04O...</td>\n      <td>id\n0  01Yfj2T3YTwJ1Yfy\n5  04O...</td>\n      <td>id\n6  04iitW3ffa0mhpx3\n4  02Z...</td>\n    </tr>\n    <tr>\n      <th>4</th>\n      <td>02ZnlCGZEbkfCDxo</td>\n      <td>Laura Pausini</td>\n      <td>Tra Te E Il Mare</td>\n      <td>The Best of Laura Pausini - E Ritorno Da Te</td>\n      <td>https://www.youtube.com/watch?v=gl17x1L_8Kc</td>\n      <td>[pop, italian pop, latin, europop, ambient, po...</td>\n      <td>id\n7  04xUDjAYC14jsHyH\n8  06H...</td>\n      <td>id\n3  02RGE9FNH65RtMS7\n7  04x...</td>\n      <td>id\n7  04xUDjAYC14jsHyH\n9  06L...</td>\n      <td>id\n2  01rMxQv6vhyE1oQX\n1  01g...</td>\n      <td>id\n6  04iitW3ffa0mhpx3\n2  01r...</td>\n      <td>id\n8  06HvNTU9M9lnH71I\n5  04O...</td>\n      <td>id\n8  06HvNTU9M9lnH71I\n7  04x...</td>\n      <td>id\n3  02RGE9FNH65RtMS7\n6  04i...</td>\n    </tr>\n    <tr>\n      <th>5</th>\n      <td>04OjszRi9rC5BlHC</td>\n      <td>Grizzly Bear</td>\n      <td>Knife</td>\n      <td>Yellow House</td>\n      <td>https://www.youtube.com/watch?v=PVdGjSSarIQ</td>\n      <td>[experimental, folk, lo fi, freak folk, indie ...</td>\n      <td>id\n6  04iitW3ffa0mhpx3\n1  01g...</td>\n      <td>id\n9  06L9OJ5nRqKnO2q9\n2  01r...</td>\n      <td>id\n9  06L9OJ5nRqKnO2q9\n7  04x...</td>\n      <td>id\n1  01gyRHLquwXDlhkO\n8  06H...</td>\n      <td>id\n4  02ZnlCGZEbkfCDxo\n9  06L...</td>\n      <td>id\n6  04iitW3ffa0mhpx3\n9  06L...</td>\n      <td>id\n0  01Yfj2T3YTwJ1Yfy\n8  06H...</td>\n      <td>id\n6  04iitW3ffa0mhpx3\n9  06L...</td>\n    </tr>\n    <tr>\n      <th>6</th>\n      <td>04iitW3ffa0mhpx3</td>\n      <td>Ne-Yo</td>\n      <td>Miss Independent</td>\n      <td>Year Of The Gentleman (Bonus Track Edition)</td>\n      <td>https://www.youtube.com/watch?v=k6M5C-oKw9k</td>\n      <td>[pop, r b, hip hop, soul, rhythm and blues, si...</td>\n      <td>id\n1  01gyRHLquwXDlhkO\n7  04x...</td>\n      <td>id\n1  01gyRHLquwXDlhkO\n3  02R...</td>\n      <td>id\n9  06L9OJ5nRqKnO2q9\n5  04O...</td>\n      <td>id\n1  01gyRHLquwXDlhkO\n5  04O...</td>\n      <td>id\n4  02ZnlCGZEbkfCDxo\n2  01r...</td>\n      <td>id\n5  04OjszRi9rC5BlHC\n9  06L...</td>\n      <td>id\n8  06HvNTU9M9lnH71I\n1  01g...</td>\n      <td>id\n3  02RGE9FNH65RtMS7\n9  06L...</td>\n    </tr>\n    <tr>\n      <th>7</th>\n      <td>04xUDjAYC14jsHyH</td>\n      <td>Jawbreaker</td>\n      <td>Jinx Removing</td>\n      <td>24 Hour Revenge Therapy (Remastered)</td>\n      <td>https://www.youtube.com/watch?v=MLeekX2znNU</td>\n      <td>[punk, emo, post hardcore, post punk, melodic ...</td>\n      <td>id\n1  01gyRHLquwXDlhkO\n8  06H...</td>\n      <td>id\n4  02ZnlCGZEbkfCDxo\n8  06H...</td>\n      <td>id\n9  06L9OJ5nRqKnO2q9\n4  02Z...</td>\n      <td>id\n0  01Yfj2T3YTwJ1Yfy\n3  02R...</td>\n      <td>id\n0  01Yfj2T3YTwJ1Yfy\n2  01r...</td>\n      <td>id\n0  01Yfj2T3YTwJ1Yfy\n9  06L...</td>\n      <td>id\n0  01Yfj2T3YTwJ1Yfy\n4  02Z...</td>\n      <td>id\n9  06L9OJ5nRqKnO2q9\n1  01g...</td>\n    </tr>\n    <tr>\n      <th>8</th>\n      <td>06HvNTU9M9lnH71I</td>\n      <td>Michael Bublé</td>\n      <td>That's All</td>\n      <td>Michael Bublé (US Version)</td>\n      <td>https://www.youtube.com/watch?v=yGw_uBcU4rU</td>\n      <td>[jazz, easy listening, swing, smooth jazz, voc...</td>\n      <td>id\n2  01rMxQv6vhyE1oQX\n4  02Z...</td>\n      <td>id\n7  04xUDjAYC14jsHyH\n3  02R...</td>\n      <td>id\n7  04xUDjAYC14jsHyH\n4  02Z...</td>\n      <td>id\n9  06L9OJ5nRqKnO2q9\n5  04O...</td>\n      <td>id\n2  01rMxQv6vhyE1oQX\n5  04O...</td>\n      <td>id\n9  06L9OJ5nRqKnO2q9\n1  01g...</td>\n      <td>id\n1  01gyRHLquwXDlhkO\n0  01Y...</td>\n      <td>id\n6  04iitW3ffa0mhpx3\n9  06L...</td>\n    </tr>\n    <tr>\n      <th>9</th>\n      <td>06L9OJ5nRqKnO2q9</td>\n      <td>Rhye</td>\n      <td>Please</td>\n      <td>Blood Remixed</td>\n      <td>https://www.youtube.com/watch?v=ejcWz1ZRC9I</td>\n      <td>[smooth soul, sophisti pop]</td>\n      <td>id\n1  01gyRHLquwXDlhkO\n7  04x...</td>\n      <td>id\n3  02RGE9FNH65RtMS7\n8  06H...</td>\n      <td>id\n5  04OjszRi9rC5BlHC\n7  04x...</td>\n      <td>id\n8  06HvNTU9M9lnH71I\n6  04i...</td>\n      <td>id\n5  04OjszRi9rC5BlHC\n8  06H...</td>\n      <td>id\n8  06HvNTU9M9lnH71I\n6  04i...</td>\n      <td>id\n6  04iitW3ffa0mhpx3\n8  06H...</td>\n      <td>id\n6  04iitW3ffa0mhpx3\n3  02R...</td>\n    </tr>\n  </tbody>\n</table>\n</div>"
     },
     "execution_count": 15,
     "metadata": {},
     "output_type": "execute_result"
    }
   ],
   "source": [
    "# This is Danis json version\n",
    "df_info = df_info.head(10)\n",
    "df_dani = df_info.copy()\n",
    "\n",
    "# if an error occurs: please delete the song \"03Oc9WeMEmyLLQbj\" ind information.csv\n",
    "for index, feature_set, sim_func in rs_info:\n",
    "    df_dani[f'res_songs_{index}'] = df_info.apply(calc_songs, axis=1, args=(df_info, feature_set, sim_func, [\"id\"]))\n",
    "    print(f\"\\nFinished {index} -------------------\")\n",
    "\n",
    "df_dani.to_json(orient='records', indent=2, path_or_buf=f'data-dani.json')\n",
    "df_dani"
   ],
   "metadata": {
    "collapsed": false,
    "ExecuteTime": {
     "end_time": "2024-01-12T11:00:49.359058075Z",
     "start_time": "2024-01-12T11:00:31.860679264Z"
    }
   },
   "id": "8a768703f42e3165"
  },
  {
   "cell_type": "code",
   "execution_count": 16,
   "outputs": [
    {
     "name": "stdout",
     "output_type": "stream",
     "text": [
      "01Yfj2T3YTwJ1Yfy \n",
      "01gyRHLquwXDlhkO \n",
      "01rMxQv6vhyE1oQX \n",
      "02RGE9FNH65RtMS7 \n",
      "02ZnlCGZEbkfCDxo \n",
      "04OjszRi9rC5BlHC \n",
      "04iitW3ffa0mhpx3 \n",
      "04xUDjAYC14jsHyH \n",
      "06HvNTU9M9lnH71I \n",
      "06L9OJ5nRqKnO2q9 \n",
      "Finished word2vec euc-sim -------------------\n",
      "01Yfj2T3YTwJ1Yfy \n",
      "01gyRHLquwXDlhkO \n",
      "01rMxQv6vhyE1oQX \n",
      "02RGE9FNH65RtMS7 \n",
      "02ZnlCGZEbkfCDxo \n",
      "04OjszRi9rC5BlHC \n",
      "04iitW3ffa0mhpx3 \n",
      "04xUDjAYC14jsHyH \n",
      "06HvNTU9M9lnH71I \n",
      "06L9OJ5nRqKnO2q9 \n",
      "Finished tfidf cos-sim -------------------\n",
      "01Yfj2T3YTwJ1Yfy \n",
      "01gyRHLquwXDlhkO \n",
      "01rMxQv6vhyE1oQX \n",
      "02RGE9FNH65RtMS7 \n",
      "02ZnlCGZEbkfCDxo \n",
      "04OjszRi9rC5BlHC \n",
      "04iitW3ffa0mhpx3 \n",
      "04xUDjAYC14jsHyH \n",
      "06HvNTU9M9lnH71I \n",
      "06L9OJ5nRqKnO2q9 \n",
      "Finished bert cos-sim -------------------\n",
      "01Yfj2T3YTwJ1Yfy \n",
      "01gyRHLquwXDlhkO \n",
      "01rMxQv6vhyE1oQX \n",
      "02RGE9FNH65RtMS7 \n",
      "02ZnlCGZEbkfCDxo \n",
      "04OjszRi9rC5BlHC \n",
      "04iitW3ffa0mhpx3 \n",
      "04xUDjAYC14jsHyH \n",
      "06HvNTU9M9lnH71I \n",
      "06L9OJ5nRqKnO2q9 \n",
      "Finished mfcc_bow cos-sim -------------------\n",
      "01Yfj2T3YTwJ1Yfy \n",
      "01gyRHLquwXDlhkO \n",
      "01rMxQv6vhyE1oQX \n",
      "02RGE9FNH65RtMS7 \n",
      "02ZnlCGZEbkfCDxo \n",
      "04OjszRi9rC5BlHC \n",
      "04iitW3ffa0mhpx3 \n",
      "04xUDjAYC14jsHyH \n",
      "06HvNTU9M9lnH71I \n",
      "06L9OJ5nRqKnO2q9 \n",
      "Finished musicnn cos-sim -------------------\n",
      "01Yfj2T3YTwJ1Yfy \n",
      "01gyRHLquwXDlhkO \n",
      "01rMxQv6vhyE1oQX \n",
      "02RGE9FNH65RtMS7 \n",
      "02ZnlCGZEbkfCDxo \n",
      "04OjszRi9rC5BlHC \n",
      "04iitW3ffa0mhpx3 \n",
      "04xUDjAYC14jsHyH \n",
      "06HvNTU9M9lnH71I \n",
      "06L9OJ5nRqKnO2q9 \n",
      "Finished ivec_256 cos-sim -------------------\n",
      "01Yfj2T3YTwJ1Yfy \n",
      "01gyRHLquwXDlhkO \n",
      "01rMxQv6vhyE1oQX \n",
      "02RGE9FNH65RtMS7 \n",
      "02ZnlCGZEbkfCDxo \n",
      "04OjszRi9rC5BlHC \n",
      "04iitW3ffa0mhpx3 \n",
      "04xUDjAYC14jsHyH \n",
      "06HvNTU9M9lnH71I \n",
      "06L9OJ5nRqKnO2q9 \n",
      "Finished logfluc cos-sim -------------------\n",
      "01Yfj2T3YTwJ1Yfy \n",
      "01gyRHLquwXDlhkO \n",
      "01rMxQv6vhyE1oQX \n",
      "02RGE9FNH65RtMS7 \n",
      "02ZnlCGZEbkfCDxo \n",
      "04OjszRi9rC5BlHC \n",
      "04iitW3ffa0mhpx3 \n",
      "04xUDjAYC14jsHyH \n",
      "06HvNTU9M9lnH71I \n",
      "06L9OJ5nRqKnO2q9 \n",
      "Finished resnet cos-sim -------------------\n"
     ]
    },
    {
     "data": {
      "text/plain": "                 id                artist  \\\n0  01Yfj2T3YTwJ1Yfy           We As Human   \n1  01gyRHLquwXDlhkO  The Notorious B.I.G.   \n2  01rMxQv6vhyE1oQX   Against the Current   \n3  02RGE9FNH65RtMS7              Barthezz   \n4  02ZnlCGZEbkfCDxo         Laura Pausini   \n5  04OjszRi9rC5BlHC          Grizzly Bear   \n6  04iitW3ffa0mhpx3                 Ne-Yo   \n7  04xUDjAYC14jsHyH            Jawbreaker   \n8  06HvNTU9M9lnH71I         Michael Bublé   \n9  06L9OJ5nRqKnO2q9                  Rhye   \n\n                                        song  \\\n0  Take The Bullets Away (feat. Lacey Sturm)   \n1                       Somebody's Gotta Die   \n2                             Chasing Ghosts   \n3                                   Infected   \n4                           Tra Te E Il Mare   \n5                                      Knife   \n6                           Miss Independent   \n7                              Jinx Removing   \n8                                 That's All   \n9                                     Please   \n\n                                    album_name  \\\n0                                  We As Human   \n1        Life After Death (Remastered Edition)   \n2                                 In Our Bones   \n3         Trance - The Early Years (1997-2002)   \n4  The Best of Laura Pausini - E Ritorno Da Te   \n5                                 Yellow House   \n6  Year Of The Gentleman (Bonus Track Edition)   \n7         24 Hour Revenge Therapy (Remastered)   \n8                   Michael Bublé (US Version)   \n9                                Blood Remixed   \n\n                          res_songs_word2vec euc-sim  \\\n0                   id                           ...   \n1                   id                           ...   \n2                   id                           ...   \n3                   id                           ...   \n4                   id                           ...   \n5                   id                           ...   \n6                   id                           ...   \n7                   id                           ...   \n8                   id                           ...   \n9                   id                           ...   \n\n                             res_songs_tfidf cos-sim  \\\n0                   id                           ...   \n1                   id                           ...   \n2                   id                           ...   \n3                   id                           ...   \n4                   id                           ...   \n5                   id                           ...   \n6                   id                           ...   \n7                   id                           ...   \n8                   id                           ...   \n9                   id                           ...   \n\n                              res_songs_bert cos-sim  \\\n0                   id                           ...   \n1                   id                           ...   \n2                   id                           ...   \n3                   id                           ...   \n4                   id                           ...   \n5                   id                           ...   \n6                   id                           ...   \n7                   id                           ...   \n8                   id                           ...   \n9                   id                           ...   \n\n                          res_songs_mfcc_bow cos-sim  \\\n0                   id                           ...   \n1                   id                           ...   \n2                   id                           ...   \n3                   id                           ...   \n4                   id                           ...   \n5                   id                           ...   \n6                   id                           ...   \n7                   id                           ...   \n8                   id                           ...   \n9                   id                           ...   \n\n                           res_songs_musicnn cos-sim  \\\n0                   id                           ...   \n1                   id                           ...   \n2                   id                           ...   \n3                   id                           ...   \n4                   id                           ...   \n5                   id                           ...   \n6                   id                           ...   \n7                   id                           ...   \n8                   id                           ...   \n9                   id                           ...   \n\n                          res_songs_ivec_256 cos-sim  \\\n0                   id                           ...   \n1                   id                           ...   \n2                   id                           ...   \n3                   id                           ...   \n4                   id                           ...   \n5                   id                           ...   \n6                   id                           ...   \n7                   id                           ...   \n8                   id                           ...   \n9                   id                           ...   \n\n                           res_songs_logfluc cos-sim  \\\n0                   id                           ...   \n1                   id                           ...   \n2                   id                           ...   \n3                   id                           ...   \n4                   id                           ...   \n5                   id                           ...   \n6                   id                           ...   \n7                   id                           ...   \n8                   id                           ...   \n9                   id                           ...   \n\n                            res_songs_resnet cos-sim  \n0                   id                           ...  \n1                   id                           ...  \n2                   id                           ...  \n3                   id                           ...  \n4                   id                           ...  \n5                   id                           ...  \n6                   id                           ...  \n7                   id                           ...  \n8                   id                           ...  \n9                   id                           ...  ",
      "text/html": "<div>\n<style scoped>\n    .dataframe tbody tr th:only-of-type {\n        vertical-align: middle;\n    }\n\n    .dataframe tbody tr th {\n        vertical-align: top;\n    }\n\n    .dataframe thead th {\n        text-align: right;\n    }\n</style>\n<table border=\"1\" class=\"dataframe\">\n  <thead>\n    <tr style=\"text-align: right;\">\n      <th></th>\n      <th>id</th>\n      <th>artist</th>\n      <th>song</th>\n      <th>album_name</th>\n      <th>res_songs_word2vec euc-sim</th>\n      <th>res_songs_tfidf cos-sim</th>\n      <th>res_songs_bert cos-sim</th>\n      <th>res_songs_mfcc_bow cos-sim</th>\n      <th>res_songs_musicnn cos-sim</th>\n      <th>res_songs_ivec_256 cos-sim</th>\n      <th>res_songs_logfluc cos-sim</th>\n      <th>res_songs_resnet cos-sim</th>\n    </tr>\n  </thead>\n  <tbody>\n    <tr>\n      <th>0</th>\n      <td>01Yfj2T3YTwJ1Yfy</td>\n      <td>We As Human</td>\n      <td>Take The Bullets Away (feat. Lacey Sturm)</td>\n      <td>We As Human</td>\n      <td>id                           ...</td>\n      <td>id                           ...</td>\n      <td>id                           ...</td>\n      <td>id                           ...</td>\n      <td>id                           ...</td>\n      <td>id                           ...</td>\n      <td>id                           ...</td>\n      <td>id                           ...</td>\n    </tr>\n    <tr>\n      <th>1</th>\n      <td>01gyRHLquwXDlhkO</td>\n      <td>The Notorious B.I.G.</td>\n      <td>Somebody's Gotta Die</td>\n      <td>Life After Death (Remastered Edition)</td>\n      <td>id                           ...</td>\n      <td>id                           ...</td>\n      <td>id                           ...</td>\n      <td>id                           ...</td>\n      <td>id                           ...</td>\n      <td>id                           ...</td>\n      <td>id                           ...</td>\n      <td>id                           ...</td>\n    </tr>\n    <tr>\n      <th>2</th>\n      <td>01rMxQv6vhyE1oQX</td>\n      <td>Against the Current</td>\n      <td>Chasing Ghosts</td>\n      <td>In Our Bones</td>\n      <td>id                           ...</td>\n      <td>id                           ...</td>\n      <td>id                           ...</td>\n      <td>id                           ...</td>\n      <td>id                           ...</td>\n      <td>id                           ...</td>\n      <td>id                           ...</td>\n      <td>id                           ...</td>\n    </tr>\n    <tr>\n      <th>3</th>\n      <td>02RGE9FNH65RtMS7</td>\n      <td>Barthezz</td>\n      <td>Infected</td>\n      <td>Trance - The Early Years (1997-2002)</td>\n      <td>id                           ...</td>\n      <td>id                           ...</td>\n      <td>id                           ...</td>\n      <td>id                           ...</td>\n      <td>id                           ...</td>\n      <td>id                           ...</td>\n      <td>id                           ...</td>\n      <td>id                           ...</td>\n    </tr>\n    <tr>\n      <th>4</th>\n      <td>02ZnlCGZEbkfCDxo</td>\n      <td>Laura Pausini</td>\n      <td>Tra Te E Il Mare</td>\n      <td>The Best of Laura Pausini - E Ritorno Da Te</td>\n      <td>id                           ...</td>\n      <td>id                           ...</td>\n      <td>id                           ...</td>\n      <td>id                           ...</td>\n      <td>id                           ...</td>\n      <td>id                           ...</td>\n      <td>id                           ...</td>\n      <td>id                           ...</td>\n    </tr>\n    <tr>\n      <th>5</th>\n      <td>04OjszRi9rC5BlHC</td>\n      <td>Grizzly Bear</td>\n      <td>Knife</td>\n      <td>Yellow House</td>\n      <td>id                           ...</td>\n      <td>id                           ...</td>\n      <td>id                           ...</td>\n      <td>id                           ...</td>\n      <td>id                           ...</td>\n      <td>id                           ...</td>\n      <td>id                           ...</td>\n      <td>id                           ...</td>\n    </tr>\n    <tr>\n      <th>6</th>\n      <td>04iitW3ffa0mhpx3</td>\n      <td>Ne-Yo</td>\n      <td>Miss Independent</td>\n      <td>Year Of The Gentleman (Bonus Track Edition)</td>\n      <td>id                           ...</td>\n      <td>id                           ...</td>\n      <td>id                           ...</td>\n      <td>id                           ...</td>\n      <td>id                           ...</td>\n      <td>id                           ...</td>\n      <td>id                           ...</td>\n      <td>id                           ...</td>\n    </tr>\n    <tr>\n      <th>7</th>\n      <td>04xUDjAYC14jsHyH</td>\n      <td>Jawbreaker</td>\n      <td>Jinx Removing</td>\n      <td>24 Hour Revenge Therapy (Remastered)</td>\n      <td>id                           ...</td>\n      <td>id                           ...</td>\n      <td>id                           ...</td>\n      <td>id                           ...</td>\n      <td>id                           ...</td>\n      <td>id                           ...</td>\n      <td>id                           ...</td>\n      <td>id                           ...</td>\n    </tr>\n    <tr>\n      <th>8</th>\n      <td>06HvNTU9M9lnH71I</td>\n      <td>Michael Bublé</td>\n      <td>That's All</td>\n      <td>Michael Bublé (US Version)</td>\n      <td>id                           ...</td>\n      <td>id                           ...</td>\n      <td>id                           ...</td>\n      <td>id                           ...</td>\n      <td>id                           ...</td>\n      <td>id                           ...</td>\n      <td>id                           ...</td>\n      <td>id                           ...</td>\n    </tr>\n    <tr>\n      <th>9</th>\n      <td>06L9OJ5nRqKnO2q9</td>\n      <td>Rhye</td>\n      <td>Please</td>\n      <td>Blood Remixed</td>\n      <td>id                           ...</td>\n      <td>id                           ...</td>\n      <td>id                           ...</td>\n      <td>id                           ...</td>\n      <td>id                           ...</td>\n      <td>id                           ...</td>\n      <td>id                           ...</td>\n      <td>id                           ...</td>\n    </tr>\n  </tbody>\n</table>\n</div>"
     },
     "execution_count": 16,
     "metadata": {},
     "output_type": "execute_result"
    }
   ],
   "source": [
    "# This is Richards json version\n",
    "df_info = df_info.head(10)\n",
    "df_richard = df_info.copy()\n",
    "\n",
    "# if an error occurs: please delete the song \"03Oc9WeMEmyLLQbj\" ind information.csv\n",
    "for index, feature_set, sim_func in rs_info:\n",
    "    df_richard[f'res_songs_{index}'] = df_info.apply(calc_songs, axis=1, args=(df_info, feature_set, sim_func, [\"id\", \"youtube_link\", \"genre\"]))\n",
    "    print(f\"Finished {index} -------------------\")\n",
    "\n",
    "df_richard = df_richard.drop(columns=[\"youtube_link\", \"genre\"])\n",
    "\n",
    "df_richard.to_json(orient='records', indent=2, path_or_buf=f'data-richard.json')\n",
    "df_richard"
   ],
   "metadata": {
    "collapsed": false,
    "ExecuteTime": {
     "end_time": "2024-01-12T11:01:20.441789199Z",
     "start_time": "2024-01-12T11:01:01.253769773Z"
    }
   },
   "id": "49402e79ab29b71f"
  },
  {
   "cell_type": "code",
   "execution_count": null,
   "outputs": [],
   "source": [],
   "metadata": {
    "collapsed": false
   },
   "id": "2fe98f514b810cca"
  }
 ],
 "metadata": {
  "kernelspec": {
   "display_name": "Python 3",
   "language": "python",
   "name": "python3"
  },
  "language_info": {
   "codemirror_mode": {
    "name": "ipython",
    "version": 2
   },
   "file_extension": ".py",
   "mimetype": "text/x-python",
   "name": "python",
   "nbconvert_exporter": "python",
   "pygments_lexer": "ipython2",
   "version": "2.7.6"
  }
 },
 "nbformat": 4,
 "nbformat_minor": 5
}
